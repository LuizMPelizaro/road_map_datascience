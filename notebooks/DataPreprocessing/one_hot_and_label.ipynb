{
 "cells": [
  {
   "cell_type": "code",
   "execution_count": 175,
   "id": "initial_id",
   "metadata": {
    "collapsed": true,
    "ExecuteTime": {
     "end_time": "2024-02-17T21:14:03.370225800Z",
     "start_time": "2024-02-17T21:14:03.340947300Z"
    }
   },
   "outputs": [],
   "source": [
    "import pandas as pd\n",
    "\n",
    "from sklearn.preprocessing import OneHotEncoder\n",
    "from sklearn.preprocessing import LabelEncoder\n",
    "from sklearn.preprocessing import TargetEncoder\n",
    "from category_encoders import TargetEncoder"
   ]
  },
  {
   "cell_type": "markdown",
   "source": [
    "### Objetivo do notebook \n",
    "1) Mostrar como funciona as tecnicas de Label encoder e one hot encoder"
   ],
   "metadata": {
    "collapsed": false
   },
   "id": "c26d0f53f429dca1"
  },
  {
   "cell_type": "markdown",
   "source": [
    "### ONE HOT ENCODER\n",
    "vamos usar o one hot encoder nas colunas que usam dados do tipo string ('object') para conseguirmos colocar eles no modelo para melhorar a previsão"
   ],
   "metadata": {
    "collapsed": false
   },
   "id": "9652255978e58896"
  },
  {
   "cell_type": "code",
   "outputs": [
    {
     "data": {
      "text/plain": "      sex    age   debt  married bank_customer   industry ethnicity  \\\n0    Male  58.67  4.460    False          True  Chemistry     Hmong   \n1    Male  24.50  0.500    False          True  Chemistry     Hmong   \n2  Female  27.83  1.540    False          True    Writing    Viking   \n3  Female  20.17  5.625    False          True    Writing    Viking   \n4  Female  32.08  4.000    False          True  Marketing    Viking   \n\n   years_employed  prior_default  employed  credit_score  drive_license  \\\n0            3.04           True      True             6          False   \n1            1.50           True     False             0          False   \n2            3.75           True      True             5           True   \n3            1.71           True     False             0          False   \n4            2.50           True     False             0           True   \n\n       citizen  zip_code  income  approved  \n0  Citizenship        43     560      True  \n1  Citizenship       280     824      True  \n2  Citizenship       100       3      True  \n3        Other       120       0      True  \n4  Citizenship       360       0      True  ",
      "text/html": "<div>\n<style scoped>\n    .dataframe tbody tr th:only-of-type {\n        vertical-align: middle;\n    }\n\n    .dataframe tbody tr th {\n        vertical-align: top;\n    }\n\n    .dataframe thead th {\n        text-align: right;\n    }\n</style>\n<table border=\"1\" class=\"dataframe\">\n  <thead>\n    <tr style=\"text-align: right;\">\n      <th></th>\n      <th>sex</th>\n      <th>age</th>\n      <th>debt</th>\n      <th>married</th>\n      <th>bank_customer</th>\n      <th>industry</th>\n      <th>ethnicity</th>\n      <th>years_employed</th>\n      <th>prior_default</th>\n      <th>employed</th>\n      <th>credit_score</th>\n      <th>drive_license</th>\n      <th>citizen</th>\n      <th>zip_code</th>\n      <th>income</th>\n      <th>approved</th>\n    </tr>\n  </thead>\n  <tbody>\n    <tr>\n      <th>0</th>\n      <td>Male</td>\n      <td>58.67</td>\n      <td>4.460</td>\n      <td>False</td>\n      <td>True</td>\n      <td>Chemistry</td>\n      <td>Hmong</td>\n      <td>3.04</td>\n      <td>True</td>\n      <td>True</td>\n      <td>6</td>\n      <td>False</td>\n      <td>Citizenship</td>\n      <td>43</td>\n      <td>560</td>\n      <td>True</td>\n    </tr>\n    <tr>\n      <th>1</th>\n      <td>Male</td>\n      <td>24.50</td>\n      <td>0.500</td>\n      <td>False</td>\n      <td>True</td>\n      <td>Chemistry</td>\n      <td>Hmong</td>\n      <td>1.50</td>\n      <td>True</td>\n      <td>False</td>\n      <td>0</td>\n      <td>False</td>\n      <td>Citizenship</td>\n      <td>280</td>\n      <td>824</td>\n      <td>True</td>\n    </tr>\n    <tr>\n      <th>2</th>\n      <td>Female</td>\n      <td>27.83</td>\n      <td>1.540</td>\n      <td>False</td>\n      <td>True</td>\n      <td>Writing</td>\n      <td>Viking</td>\n      <td>3.75</td>\n      <td>True</td>\n      <td>True</td>\n      <td>5</td>\n      <td>True</td>\n      <td>Citizenship</td>\n      <td>100</td>\n      <td>3</td>\n      <td>True</td>\n    </tr>\n    <tr>\n      <th>3</th>\n      <td>Female</td>\n      <td>20.17</td>\n      <td>5.625</td>\n      <td>False</td>\n      <td>True</td>\n      <td>Writing</td>\n      <td>Viking</td>\n      <td>1.71</td>\n      <td>True</td>\n      <td>False</td>\n      <td>0</td>\n      <td>False</td>\n      <td>Other</td>\n      <td>120</td>\n      <td>0</td>\n      <td>True</td>\n    </tr>\n    <tr>\n      <th>4</th>\n      <td>Female</td>\n      <td>32.08</td>\n      <td>4.000</td>\n      <td>False</td>\n      <td>True</td>\n      <td>Marketing</td>\n      <td>Viking</td>\n      <td>2.50</td>\n      <td>True</td>\n      <td>False</td>\n      <td>0</td>\n      <td>True</td>\n      <td>Citizenship</td>\n      <td>360</td>\n      <td>0</td>\n      <td>True</td>\n    </tr>\n  </tbody>\n</table>\n</div>"
     },
     "execution_count": 176,
     "metadata": {},
     "output_type": "execute_result"
    }
   ],
   "source": [
    "df = pd.read_csv('../../data/clean_dataset.csv')\n",
    "df.head()"
   ],
   "metadata": {
    "collapsed": false,
    "ExecuteTime": {
     "end_time": "2024-02-17T21:14:03.372237400Z",
     "start_time": "2024-02-17T21:14:03.353684600Z"
    }
   },
   "id": "47687e5c4ea3f3ca",
   "execution_count": 176
  },
  {
   "cell_type": "code",
   "outputs": [],
   "source": [
    "X = df.drop(columns=['approved', 'age', 'debt', 'years_employed', 'credit_score', 'zip_code', 'income'])"
   ],
   "metadata": {
    "collapsed": false,
    "ExecuteTime": {
     "end_time": "2024-02-17T21:14:03.395720Z",
     "start_time": "2024-02-17T21:14:03.375238800Z"
    }
   },
   "id": "5fa312c0a3d28e1a",
   "execution_count": 177
  },
  {
   "cell_type": "code",
   "outputs": [
    {
     "name": "stderr",
     "output_type": "stream",
     "text": [
      "C:\\Users\\siera\\anaconda3\\Lib\\site-packages\\sklearn\\preprocessing\\_encoders.py:972: FutureWarning: `sparse` was renamed to `sparse_output` in version 1.2 and will be removed in 1.4. `sparse_output` is ignored unless you leave `sparse` to its default value.\n",
      "  warnings.warn(\n"
     ]
    },
    {
     "data": {
      "text/plain": "OneHotEncoder(sparse=False, sparse_output=False)",
      "text/html": "<style>#sk-container-id-13 {color: black;}#sk-container-id-13 pre{padding: 0;}#sk-container-id-13 div.sk-toggleable {background-color: white;}#sk-container-id-13 label.sk-toggleable__label {cursor: pointer;display: block;width: 100%;margin-bottom: 0;padding: 0.3em;box-sizing: border-box;text-align: center;}#sk-container-id-13 label.sk-toggleable__label-arrow:before {content: \"▸\";float: left;margin-right: 0.25em;color: #696969;}#sk-container-id-13 label.sk-toggleable__label-arrow:hover:before {color: black;}#sk-container-id-13 div.sk-estimator:hover label.sk-toggleable__label-arrow:before {color: black;}#sk-container-id-13 div.sk-toggleable__content {max-height: 0;max-width: 0;overflow: hidden;text-align: left;background-color: #f0f8ff;}#sk-container-id-13 div.sk-toggleable__content pre {margin: 0.2em;color: black;border-radius: 0.25em;background-color: #f0f8ff;}#sk-container-id-13 input.sk-toggleable__control:checked~div.sk-toggleable__content {max-height: 200px;max-width: 100%;overflow: auto;}#sk-container-id-13 input.sk-toggleable__control:checked~label.sk-toggleable__label-arrow:before {content: \"▾\";}#sk-container-id-13 div.sk-estimator input.sk-toggleable__control:checked~label.sk-toggleable__label {background-color: #d4ebff;}#sk-container-id-13 div.sk-label input.sk-toggleable__control:checked~label.sk-toggleable__label {background-color: #d4ebff;}#sk-container-id-13 input.sk-hidden--visually {border: 0;clip: rect(1px 1px 1px 1px);clip: rect(1px, 1px, 1px, 1px);height: 1px;margin: -1px;overflow: hidden;padding: 0;position: absolute;width: 1px;}#sk-container-id-13 div.sk-estimator {font-family: monospace;background-color: #f0f8ff;border: 1px dotted black;border-radius: 0.25em;box-sizing: border-box;margin-bottom: 0.5em;}#sk-container-id-13 div.sk-estimator:hover {background-color: #d4ebff;}#sk-container-id-13 div.sk-parallel-item::after {content: \"\";width: 100%;border-bottom: 1px solid gray;flex-grow: 1;}#sk-container-id-13 div.sk-label:hover label.sk-toggleable__label {background-color: #d4ebff;}#sk-container-id-13 div.sk-serial::before {content: \"\";position: absolute;border-left: 1px solid gray;box-sizing: border-box;top: 0;bottom: 0;left: 50%;z-index: 0;}#sk-container-id-13 div.sk-serial {display: flex;flex-direction: column;align-items: center;background-color: white;padding-right: 0.2em;padding-left: 0.2em;position: relative;}#sk-container-id-13 div.sk-item {position: relative;z-index: 1;}#sk-container-id-13 div.sk-parallel {display: flex;align-items: stretch;justify-content: center;background-color: white;position: relative;}#sk-container-id-13 div.sk-item::before, #sk-container-id-13 div.sk-parallel-item::before {content: \"\";position: absolute;border-left: 1px solid gray;box-sizing: border-box;top: 0;bottom: 0;left: 50%;z-index: -1;}#sk-container-id-13 div.sk-parallel-item {display: flex;flex-direction: column;z-index: 1;position: relative;background-color: white;}#sk-container-id-13 div.sk-parallel-item:first-child::after {align-self: flex-end;width: 50%;}#sk-container-id-13 div.sk-parallel-item:last-child::after {align-self: flex-start;width: 50%;}#sk-container-id-13 div.sk-parallel-item:only-child::after {width: 0;}#sk-container-id-13 div.sk-dashed-wrapped {border: 1px dashed gray;margin: 0 0.4em 0.5em 0.4em;box-sizing: border-box;padding-bottom: 0.4em;background-color: white;}#sk-container-id-13 div.sk-label label {font-family: monospace;font-weight: bold;display: inline-block;line-height: 1.2em;}#sk-container-id-13 div.sk-label-container {text-align: center;}#sk-container-id-13 div.sk-container {/* jupyter's `normalize.less` sets `[hidden] { display: none; }` but bootstrap.min.css set `[hidden] { display: none !important; }` so we also need the `!important` here to be able to override the default hidden behavior on the sphinx rendered scikit-learn.org. See: https://github.com/scikit-learn/scikit-learn/issues/21755 */display: inline-block !important;position: relative;}#sk-container-id-13 div.sk-text-repr-fallback {display: none;}</style><div id=\"sk-container-id-13\" class=\"sk-top-container\"><div class=\"sk-text-repr-fallback\"><pre>OneHotEncoder(sparse=False, sparse_output=False)</pre><b>In a Jupyter environment, please rerun this cell to show the HTML representation or trust the notebook. <br />On GitHub, the HTML representation is unable to render, please try loading this page with nbviewer.org.</b></div><div class=\"sk-container\" hidden><div class=\"sk-item\"><div class=\"sk-estimator sk-toggleable\"><input class=\"sk-toggleable__control sk-hidden--visually\" id=\"sk-estimator-id-13\" type=\"checkbox\" checked><label for=\"sk-estimator-id-13\" class=\"sk-toggleable__label sk-toggleable__label-arrow\">OneHotEncoder</label><div class=\"sk-toggleable__content\"><pre>OneHotEncoder(sparse=False, sparse_output=False)</pre></div></div></div></div></div>"
     },
     "execution_count": 178,
     "metadata": {},
     "output_type": "execute_result"
    }
   ],
   "source": [
    "one_hot = OneHotEncoder(sparse=False)\n",
    "one_hot.fit(X)"
   ],
   "metadata": {
    "collapsed": false,
    "ExecuteTime": {
     "end_time": "2024-02-17T21:14:03.422744900Z",
     "start_time": "2024-02-17T21:14:03.382542100Z"
    }
   },
   "id": "55d4a56a1da7cf05",
   "execution_count": 178
  },
  {
   "cell_type": "code",
   "outputs": [
    {
     "data": {
      "text/plain": "array(['sex_Female', 'sex_Male', 'married_False', 'married_True',\n       'bank_customer_False', 'bank_customer_Former Client',\n       'bank_customer_True', 'industry_Accounting',\n       'industry_Aquaculture Agriculture', 'industry_Chemistry',\n       'industry_Computer Consulting', 'industry_Computer Science',\n       'industry_Engineering', 'industry_Fashion Photography',\n       'industry_Graphic Design', 'industry_Human Resources',\n       'industry_Illustration', 'industry_Journalism',\n       'industry_Marketing', 'industry_Writing', 'industry_Xenobiology',\n       'ethnicity_Bamar', 'ethnicity_Druze', 'ethnicity_Fulani',\n       'ethnicity_Hmong', 'ethnicity_Javanese', 'ethnicity_Navajo',\n       'ethnicity_Otomi', 'ethnicity_Viking', 'ethnicity_Zulu',\n       'prior_default_False', 'prior_default_True', 'employed_False',\n       'employed_True', 'drive_license_False', 'drive_license_True',\n       'citizen_Citizenship', 'citizen_Other', 'citizen_temporary'],\n      dtype=object)"
     },
     "execution_count": 179,
     "metadata": {},
     "output_type": "execute_result"
    }
   ],
   "source": [
    "df_one_hot = one_hot.transform(\n",
    "    df.drop(columns=['approved', 'age', 'debt', 'years_employed', 'credit_score', 'zip_code', 'income']))\n",
    "one_hot.get_feature_names_out()"
   ],
   "metadata": {
    "collapsed": false,
    "ExecuteTime": {
     "end_time": "2024-02-17T21:14:03.448382800Z",
     "start_time": "2024-02-17T21:14:03.392718900Z"
    }
   },
   "id": "51b7325664f66918",
   "execution_count": 179
  },
  {
   "cell_type": "code",
   "outputs": [
    {
     "data": {
      "text/plain": "array([[0., 1., 1., ..., 1., 0., 0.],\n       [0., 1., 1., ..., 1., 0., 0.],\n       [1., 0., 1., ..., 1., 0., 0.],\n       ...,\n       [0., 1., 0., ..., 1., 0., 0.],\n       [1., 0., 1., ..., 1., 0., 0.],\n       [1., 0., 1., ..., 1., 0., 0.]])"
     },
     "execution_count": 180,
     "metadata": {},
     "output_type": "execute_result"
    }
   ],
   "source": [
    "df_one_hot"
   ],
   "metadata": {
    "collapsed": false,
    "ExecuteTime": {
     "end_time": "2024-02-17T21:14:03.499054500Z",
     "start_time": "2024-02-17T21:14:03.403040900Z"
    }
   },
   "id": "3f71cd6afbf5abbc",
   "execution_count": 180
  },
  {
   "cell_type": "code",
   "outputs": [],
   "source": [
    "df_one_hot = pd.DataFrame(df_one_hot, columns=one_hot.get_feature_names_out())"
   ],
   "metadata": {
    "collapsed": false,
    "ExecuteTime": {
     "end_time": "2024-02-17T21:14:03.537141100Z",
     "start_time": "2024-02-17T21:14:03.427746Z"
    }
   },
   "id": "167c6bb7346c257c",
   "execution_count": 181
  },
  {
   "cell_type": "code",
   "outputs": [
    {
     "data": {
      "text/plain": "     sex_Female  sex_Male  married_False  married_True  bank_customer_False  \\\n0           0.0       1.0            1.0           0.0                  0.0   \n1           0.0       1.0            1.0           0.0                  0.0   \n2           1.0       0.0            1.0           0.0                  0.0   \n3           1.0       0.0            1.0           0.0                  0.0   \n4           1.0       0.0            1.0           0.0                  0.0   \n..          ...       ...            ...           ...                  ...   \n657         1.0       0.0            0.0           1.0                  1.0   \n658         0.0       1.0            1.0           0.0                  0.0   \n659         0.0       1.0            0.0           1.0                  1.0   \n660         1.0       0.0            1.0           0.0                  0.0   \n661         1.0       0.0            1.0           0.0                  0.0   \n\n     bank_customer_Former Client  bank_customer_True  industry_Accounting  \\\n0                            0.0                 1.0                  0.0   \n1                            0.0                 1.0                  0.0   \n2                            0.0                 1.0                  0.0   \n3                            0.0                 1.0                  0.0   \n4                            0.0                 1.0                  0.0   \n..                           ...                 ...                  ...   \n657                          0.0                 0.0                  0.0   \n658                          0.0                 1.0                  0.0   \n659                          0.0                 0.0                  0.0   \n660                          0.0                 1.0                  0.0   \n661                          0.0                 1.0                  0.0   \n\n     industry_Aquaculture Agriculture  industry_Chemistry  ...  \\\n0                                 0.0                 1.0  ...   \n1                                 0.0                 1.0  ...   \n2                                 0.0                 0.0  ...   \n3                                 0.0                 0.0  ...   \n4                                 0.0                 0.0  ...   \n..                                ...                 ...  ...   \n657                               0.0                 0.0  ...   \n658                               0.0                 0.0  ...   \n659                               0.0                 0.0  ...   \n660                               1.0                 0.0  ...   \n661                               0.0                 0.0  ...   \n\n     ethnicity_Zulu  prior_default_False  prior_default_True  employed_False  \\\n0               0.0                  0.0                 1.0             0.0   \n1               0.0                  0.0                 1.0             1.0   \n2               0.0                  0.0                 1.0             0.0   \n3               0.0                  0.0                 1.0             1.0   \n4               0.0                  0.0                 1.0             1.0   \n..              ...                  ...                 ...             ...   \n657             0.0                  1.0                 0.0             1.0   \n658             0.0                  1.0                 0.0             0.0   \n659             0.0                  1.0                 0.0             0.0   \n660             0.0                  1.0                 0.0             1.0   \n661             0.0                  1.0                 0.0             1.0   \n\n     employed_True  drive_license_False  drive_license_True  \\\n0              1.0                  1.0                 0.0   \n1              0.0                  1.0                 0.0   \n2              1.0                  0.0                 1.0   \n3              0.0                  1.0                 0.0   \n4              0.0                  0.0                 1.0   \n..             ...                  ...                 ...   \n657            0.0                  1.0                 0.0   \n658            1.0                  0.0                 1.0   \n659            1.0                  0.0                 1.0   \n660            0.0                  1.0                 0.0   \n661            0.0                  0.0                 1.0   \n\n     citizen_Citizenship  citizen_Other  citizen_temporary  \n0                    1.0            0.0                0.0  \n1                    1.0            0.0                0.0  \n2                    1.0            0.0                0.0  \n3                    0.0            1.0                0.0  \n4                    1.0            0.0                0.0  \n..                   ...            ...                ...  \n657                  1.0            0.0                0.0  \n658                  1.0            0.0                0.0  \n659                  1.0            0.0                0.0  \n660                  1.0            0.0                0.0  \n661                  1.0            0.0                0.0  \n\n[662 rows x 39 columns]",
      "text/html": "<div>\n<style scoped>\n    .dataframe tbody tr th:only-of-type {\n        vertical-align: middle;\n    }\n\n    .dataframe tbody tr th {\n        vertical-align: top;\n    }\n\n    .dataframe thead th {\n        text-align: right;\n    }\n</style>\n<table border=\"1\" class=\"dataframe\">\n  <thead>\n    <tr style=\"text-align: right;\">\n      <th></th>\n      <th>sex_Female</th>\n      <th>sex_Male</th>\n      <th>married_False</th>\n      <th>married_True</th>\n      <th>bank_customer_False</th>\n      <th>bank_customer_Former Client</th>\n      <th>bank_customer_True</th>\n      <th>industry_Accounting</th>\n      <th>industry_Aquaculture Agriculture</th>\n      <th>industry_Chemistry</th>\n      <th>...</th>\n      <th>ethnicity_Zulu</th>\n      <th>prior_default_False</th>\n      <th>prior_default_True</th>\n      <th>employed_False</th>\n      <th>employed_True</th>\n      <th>drive_license_False</th>\n      <th>drive_license_True</th>\n      <th>citizen_Citizenship</th>\n      <th>citizen_Other</th>\n      <th>citizen_temporary</th>\n    </tr>\n  </thead>\n  <tbody>\n    <tr>\n      <th>0</th>\n      <td>0.0</td>\n      <td>1.0</td>\n      <td>1.0</td>\n      <td>0.0</td>\n      <td>0.0</td>\n      <td>0.0</td>\n      <td>1.0</td>\n      <td>0.0</td>\n      <td>0.0</td>\n      <td>1.0</td>\n      <td>...</td>\n      <td>0.0</td>\n      <td>0.0</td>\n      <td>1.0</td>\n      <td>0.0</td>\n      <td>1.0</td>\n      <td>1.0</td>\n      <td>0.0</td>\n      <td>1.0</td>\n      <td>0.0</td>\n      <td>0.0</td>\n    </tr>\n    <tr>\n      <th>1</th>\n      <td>0.0</td>\n      <td>1.0</td>\n      <td>1.0</td>\n      <td>0.0</td>\n      <td>0.0</td>\n      <td>0.0</td>\n      <td>1.0</td>\n      <td>0.0</td>\n      <td>0.0</td>\n      <td>1.0</td>\n      <td>...</td>\n      <td>0.0</td>\n      <td>0.0</td>\n      <td>1.0</td>\n      <td>1.0</td>\n      <td>0.0</td>\n      <td>1.0</td>\n      <td>0.0</td>\n      <td>1.0</td>\n      <td>0.0</td>\n      <td>0.0</td>\n    </tr>\n    <tr>\n      <th>2</th>\n      <td>1.0</td>\n      <td>0.0</td>\n      <td>1.0</td>\n      <td>0.0</td>\n      <td>0.0</td>\n      <td>0.0</td>\n      <td>1.0</td>\n      <td>0.0</td>\n      <td>0.0</td>\n      <td>0.0</td>\n      <td>...</td>\n      <td>0.0</td>\n      <td>0.0</td>\n      <td>1.0</td>\n      <td>0.0</td>\n      <td>1.0</td>\n      <td>0.0</td>\n      <td>1.0</td>\n      <td>1.0</td>\n      <td>0.0</td>\n      <td>0.0</td>\n    </tr>\n    <tr>\n      <th>3</th>\n      <td>1.0</td>\n      <td>0.0</td>\n      <td>1.0</td>\n      <td>0.0</td>\n      <td>0.0</td>\n      <td>0.0</td>\n      <td>1.0</td>\n      <td>0.0</td>\n      <td>0.0</td>\n      <td>0.0</td>\n      <td>...</td>\n      <td>0.0</td>\n      <td>0.0</td>\n      <td>1.0</td>\n      <td>1.0</td>\n      <td>0.0</td>\n      <td>1.0</td>\n      <td>0.0</td>\n      <td>0.0</td>\n      <td>1.0</td>\n      <td>0.0</td>\n    </tr>\n    <tr>\n      <th>4</th>\n      <td>1.0</td>\n      <td>0.0</td>\n      <td>1.0</td>\n      <td>0.0</td>\n      <td>0.0</td>\n      <td>0.0</td>\n      <td>1.0</td>\n      <td>0.0</td>\n      <td>0.0</td>\n      <td>0.0</td>\n      <td>...</td>\n      <td>0.0</td>\n      <td>0.0</td>\n      <td>1.0</td>\n      <td>1.0</td>\n      <td>0.0</td>\n      <td>0.0</td>\n      <td>1.0</td>\n      <td>1.0</td>\n      <td>0.0</td>\n      <td>0.0</td>\n    </tr>\n    <tr>\n      <th>...</th>\n      <td>...</td>\n      <td>...</td>\n      <td>...</td>\n      <td>...</td>\n      <td>...</td>\n      <td>...</td>\n      <td>...</td>\n      <td>...</td>\n      <td>...</td>\n      <td>...</td>\n      <td>...</td>\n      <td>...</td>\n      <td>...</td>\n      <td>...</td>\n      <td>...</td>\n      <td>...</td>\n      <td>...</td>\n      <td>...</td>\n      <td>...</td>\n      <td>...</td>\n      <td>...</td>\n    </tr>\n    <tr>\n      <th>657</th>\n      <td>1.0</td>\n      <td>0.0</td>\n      <td>0.0</td>\n      <td>1.0</td>\n      <td>1.0</td>\n      <td>0.0</td>\n      <td>0.0</td>\n      <td>0.0</td>\n      <td>0.0</td>\n      <td>0.0</td>\n      <td>...</td>\n      <td>0.0</td>\n      <td>1.0</td>\n      <td>0.0</td>\n      <td>1.0</td>\n      <td>0.0</td>\n      <td>1.0</td>\n      <td>0.0</td>\n      <td>1.0</td>\n      <td>0.0</td>\n      <td>0.0</td>\n    </tr>\n    <tr>\n      <th>658</th>\n      <td>0.0</td>\n      <td>1.0</td>\n      <td>1.0</td>\n      <td>0.0</td>\n      <td>0.0</td>\n      <td>0.0</td>\n      <td>1.0</td>\n      <td>0.0</td>\n      <td>0.0</td>\n      <td>0.0</td>\n      <td>...</td>\n      <td>0.0</td>\n      <td>1.0</td>\n      <td>0.0</td>\n      <td>0.0</td>\n      <td>1.0</td>\n      <td>0.0</td>\n      <td>1.0</td>\n      <td>1.0</td>\n      <td>0.0</td>\n      <td>0.0</td>\n    </tr>\n    <tr>\n      <th>659</th>\n      <td>0.0</td>\n      <td>1.0</td>\n      <td>0.0</td>\n      <td>1.0</td>\n      <td>1.0</td>\n      <td>0.0</td>\n      <td>0.0</td>\n      <td>0.0</td>\n      <td>0.0</td>\n      <td>0.0</td>\n      <td>...</td>\n      <td>0.0</td>\n      <td>1.0</td>\n      <td>0.0</td>\n      <td>0.0</td>\n      <td>1.0</td>\n      <td>0.0</td>\n      <td>1.0</td>\n      <td>1.0</td>\n      <td>0.0</td>\n      <td>0.0</td>\n    </tr>\n    <tr>\n      <th>660</th>\n      <td>1.0</td>\n      <td>0.0</td>\n      <td>1.0</td>\n      <td>0.0</td>\n      <td>0.0</td>\n      <td>0.0</td>\n      <td>1.0</td>\n      <td>0.0</td>\n      <td>1.0</td>\n      <td>0.0</td>\n      <td>...</td>\n      <td>0.0</td>\n      <td>1.0</td>\n      <td>0.0</td>\n      <td>1.0</td>\n      <td>0.0</td>\n      <td>1.0</td>\n      <td>0.0</td>\n      <td>1.0</td>\n      <td>0.0</td>\n      <td>0.0</td>\n    </tr>\n    <tr>\n      <th>661</th>\n      <td>1.0</td>\n      <td>0.0</td>\n      <td>1.0</td>\n      <td>0.0</td>\n      <td>0.0</td>\n      <td>0.0</td>\n      <td>1.0</td>\n      <td>0.0</td>\n      <td>0.0</td>\n      <td>0.0</td>\n      <td>...</td>\n      <td>0.0</td>\n      <td>1.0</td>\n      <td>0.0</td>\n      <td>1.0</td>\n      <td>0.0</td>\n      <td>0.0</td>\n      <td>1.0</td>\n      <td>1.0</td>\n      <td>0.0</td>\n      <td>0.0</td>\n    </tr>\n  </tbody>\n</table>\n<p>662 rows × 39 columns</p>\n</div>"
     },
     "execution_count": 182,
     "metadata": {},
     "output_type": "execute_result"
    }
   ],
   "source": [
    "df_one_hot"
   ],
   "metadata": {
    "collapsed": false,
    "ExecuteTime": {
     "end_time": "2024-02-17T21:14:03.584585900Z",
     "start_time": "2024-02-17T21:14:03.542669400Z"
    }
   },
   "id": "569101e0a5cf2065",
   "execution_count": 182
  },
  {
   "cell_type": "markdown",
   "source": [
    "Usando o One hot encoder transformamos cada valor em uma coluna e colocando 0 se não for e 1 caso seja.\n",
    "Mas esse metodo dificulta muito as coisas quando precisamos trabalhar com os dados então vamos ver um metodo mais simples de trabalhar com isso "
   ],
   "metadata": {
    "collapsed": false
   },
   "id": "22fcc3dec8c19a3d"
  },
  {
   "cell_type": "markdown",
   "source": [
    "### Label encoder"
   ],
   "metadata": {
    "collapsed": false
   },
   "id": "d1b0153079f81827"
  },
  {
   "cell_type": "code",
   "outputs": [],
   "source": [
    "df_encoded = pd.DataFrame()\n",
    "columns_off = []\n",
    "for col in df.columns:\n",
    "\n",
    "    if df[col].dtype != 'float64' and df[col].dtype != 'int64':\n",
    "        encoder = LabelEncoder()\n",
    "        df_encoded[f'{col}'] = encoder.fit_transform(df[col])\n",
    "    else:\n",
    "        columns_off.append(col)"
   ],
   "metadata": {
    "collapsed": false,
    "ExecuteTime": {
     "end_time": "2024-02-17T21:14:03.605075500Z",
     "start_time": "2024-02-17T21:14:03.586589400Z"
    }
   },
   "id": "2bb73818bc317289",
   "execution_count": 183
  },
  {
   "cell_type": "code",
   "outputs": [
    {
     "data": {
      "text/plain": "['age', 'debt', 'years_employed', 'credit_score', 'zip_code', 'income']"
     },
     "execution_count": 184,
     "metadata": {},
     "output_type": "execute_result"
    }
   ],
   "source": [
    "columns_off"
   ],
   "metadata": {
    "collapsed": false,
    "ExecuteTime": {
     "end_time": "2024-02-17T21:14:03.648516500Z",
     "start_time": "2024-02-17T21:14:03.606074700Z"
    }
   },
   "id": "6b767c5ce5388bfb",
   "execution_count": 184
  },
  {
   "cell_type": "code",
   "outputs": [
    {
     "data": {
      "text/plain": "Index(['sex', 'married', 'bank_customer', 'industry', 'ethnicity',\n       'prior_default', 'employed', 'drive_license', 'citizen', 'approved'],\n      dtype='object')"
     },
     "execution_count": 185,
     "metadata": {},
     "output_type": "execute_result"
    }
   ],
   "source": [
    "df_encoded.columns"
   ],
   "metadata": {
    "collapsed": false,
    "ExecuteTime": {
     "end_time": "2024-02-17T21:14:03.679233700Z",
     "start_time": "2024-02-17T21:14:03.615602700Z"
    }
   },
   "id": "1eb38ffb4df890cc",
   "execution_count": 185
  },
  {
   "cell_type": "code",
   "outputs": [],
   "source": [
    "df_label_encoder = pd.concat([df_encoded, df[columns_off]], axis=1)"
   ],
   "metadata": {
    "collapsed": false,
    "ExecuteTime": {
     "end_time": "2024-02-17T21:14:03.680291300Z",
     "start_time": "2024-02-17T21:14:03.625436800Z"
    }
   },
   "id": "24213df64bbb517a",
   "execution_count": 186
  },
  {
   "cell_type": "code",
   "outputs": [
    {
     "data": {
      "text/plain": "     sex  married  bank_customer  industry  ethnicity  prior_default  \\\n0      1        0              2         2          3              1   \n1      1        0              2         2          3              1   \n2      0        0              2        12          7              1   \n3      0        0              2        12          7              1   \n4      0        0              2        11          7              1   \n..   ...      ...            ...       ...        ...            ...   \n657    0        1              0         5          3              0   \n658    1        0              2         4          7              0   \n659    1        1              0         6          2              0   \n660    0        0              2         1          7              0   \n661    0        0              2         4          3              0   \n\n     employed  drive_license  citizen  approved    age    debt  \\\n0           1              0        0         1  58.67   4.460   \n1           0              0        0         1  24.50   0.500   \n2           1              1        0         1  27.83   1.540   \n3           0              0        1         1  20.17   5.625   \n4           0              1        0         1  32.08   4.000   \n..        ...            ...      ...       ...    ...     ...   \n657         0              0        0         0  21.08  10.085   \n658         1              1        0         0  22.67   0.750   \n659         1              1        0         0  25.25  13.500   \n660         0              0        0         0  17.92   0.205   \n661         0              1        0         0  35.00   3.375   \n\n     years_employed  credit_score  zip_code  income  \n0              3.04             6        43     560  \n1              1.50             0       280     824  \n2              3.75             5       100       3  \n3              1.71             0       120       0  \n4              2.50             0       360       0  \n..              ...           ...       ...     ...  \n657            1.25             0       260       0  \n658            2.00             2       200     394  \n659            2.00             1       200       1  \n660            0.04             0       280     750  \n661            8.29             0         0       0  \n\n[662 rows x 16 columns]",
      "text/html": "<div>\n<style scoped>\n    .dataframe tbody tr th:only-of-type {\n        vertical-align: middle;\n    }\n\n    .dataframe tbody tr th {\n        vertical-align: top;\n    }\n\n    .dataframe thead th {\n        text-align: right;\n    }\n</style>\n<table border=\"1\" class=\"dataframe\">\n  <thead>\n    <tr style=\"text-align: right;\">\n      <th></th>\n      <th>sex</th>\n      <th>married</th>\n      <th>bank_customer</th>\n      <th>industry</th>\n      <th>ethnicity</th>\n      <th>prior_default</th>\n      <th>employed</th>\n      <th>drive_license</th>\n      <th>citizen</th>\n      <th>approved</th>\n      <th>age</th>\n      <th>debt</th>\n      <th>years_employed</th>\n      <th>credit_score</th>\n      <th>zip_code</th>\n      <th>income</th>\n    </tr>\n  </thead>\n  <tbody>\n    <tr>\n      <th>0</th>\n      <td>1</td>\n      <td>0</td>\n      <td>2</td>\n      <td>2</td>\n      <td>3</td>\n      <td>1</td>\n      <td>1</td>\n      <td>0</td>\n      <td>0</td>\n      <td>1</td>\n      <td>58.67</td>\n      <td>4.460</td>\n      <td>3.04</td>\n      <td>6</td>\n      <td>43</td>\n      <td>560</td>\n    </tr>\n    <tr>\n      <th>1</th>\n      <td>1</td>\n      <td>0</td>\n      <td>2</td>\n      <td>2</td>\n      <td>3</td>\n      <td>1</td>\n      <td>0</td>\n      <td>0</td>\n      <td>0</td>\n      <td>1</td>\n      <td>24.50</td>\n      <td>0.500</td>\n      <td>1.50</td>\n      <td>0</td>\n      <td>280</td>\n      <td>824</td>\n    </tr>\n    <tr>\n      <th>2</th>\n      <td>0</td>\n      <td>0</td>\n      <td>2</td>\n      <td>12</td>\n      <td>7</td>\n      <td>1</td>\n      <td>1</td>\n      <td>1</td>\n      <td>0</td>\n      <td>1</td>\n      <td>27.83</td>\n      <td>1.540</td>\n      <td>3.75</td>\n      <td>5</td>\n      <td>100</td>\n      <td>3</td>\n    </tr>\n    <tr>\n      <th>3</th>\n      <td>0</td>\n      <td>0</td>\n      <td>2</td>\n      <td>12</td>\n      <td>7</td>\n      <td>1</td>\n      <td>0</td>\n      <td>0</td>\n      <td>1</td>\n      <td>1</td>\n      <td>20.17</td>\n      <td>5.625</td>\n      <td>1.71</td>\n      <td>0</td>\n      <td>120</td>\n      <td>0</td>\n    </tr>\n    <tr>\n      <th>4</th>\n      <td>0</td>\n      <td>0</td>\n      <td>2</td>\n      <td>11</td>\n      <td>7</td>\n      <td>1</td>\n      <td>0</td>\n      <td>1</td>\n      <td>0</td>\n      <td>1</td>\n      <td>32.08</td>\n      <td>4.000</td>\n      <td>2.50</td>\n      <td>0</td>\n      <td>360</td>\n      <td>0</td>\n    </tr>\n    <tr>\n      <th>...</th>\n      <td>...</td>\n      <td>...</td>\n      <td>...</td>\n      <td>...</td>\n      <td>...</td>\n      <td>...</td>\n      <td>...</td>\n      <td>...</td>\n      <td>...</td>\n      <td>...</td>\n      <td>...</td>\n      <td>...</td>\n      <td>...</td>\n      <td>...</td>\n      <td>...</td>\n      <td>...</td>\n    </tr>\n    <tr>\n      <th>657</th>\n      <td>0</td>\n      <td>1</td>\n      <td>0</td>\n      <td>5</td>\n      <td>3</td>\n      <td>0</td>\n      <td>0</td>\n      <td>0</td>\n      <td>0</td>\n      <td>0</td>\n      <td>21.08</td>\n      <td>10.085</td>\n      <td>1.25</td>\n      <td>0</td>\n      <td>260</td>\n      <td>0</td>\n    </tr>\n    <tr>\n      <th>658</th>\n      <td>1</td>\n      <td>0</td>\n      <td>2</td>\n      <td>4</td>\n      <td>7</td>\n      <td>0</td>\n      <td>1</td>\n      <td>1</td>\n      <td>0</td>\n      <td>0</td>\n      <td>22.67</td>\n      <td>0.750</td>\n      <td>2.00</td>\n      <td>2</td>\n      <td>200</td>\n      <td>394</td>\n    </tr>\n    <tr>\n      <th>659</th>\n      <td>1</td>\n      <td>1</td>\n      <td>0</td>\n      <td>6</td>\n      <td>2</td>\n      <td>0</td>\n      <td>1</td>\n      <td>1</td>\n      <td>0</td>\n      <td>0</td>\n      <td>25.25</td>\n      <td>13.500</td>\n      <td>2.00</td>\n      <td>1</td>\n      <td>200</td>\n      <td>1</td>\n    </tr>\n    <tr>\n      <th>660</th>\n      <td>0</td>\n      <td>0</td>\n      <td>2</td>\n      <td>1</td>\n      <td>7</td>\n      <td>0</td>\n      <td>0</td>\n      <td>0</td>\n      <td>0</td>\n      <td>0</td>\n      <td>17.92</td>\n      <td>0.205</td>\n      <td>0.04</td>\n      <td>0</td>\n      <td>280</td>\n      <td>750</td>\n    </tr>\n    <tr>\n      <th>661</th>\n      <td>0</td>\n      <td>0</td>\n      <td>2</td>\n      <td>4</td>\n      <td>3</td>\n      <td>0</td>\n      <td>0</td>\n      <td>1</td>\n      <td>0</td>\n      <td>0</td>\n      <td>35.00</td>\n      <td>3.375</td>\n      <td>8.29</td>\n      <td>0</td>\n      <td>0</td>\n      <td>0</td>\n    </tr>\n  </tbody>\n</table>\n<p>662 rows × 16 columns</p>\n</div>"
     },
     "execution_count": 187,
     "metadata": {},
     "output_type": "execute_result"
    }
   ],
   "source": [
    "df_label_encoder"
   ],
   "metadata": {
    "collapsed": false,
    "ExecuteTime": {
     "end_time": "2024-02-17T21:14:03.763590700Z",
     "start_time": "2024-02-17T21:14:03.667561Z"
    }
   },
   "id": "da3f42cbb954ea49",
   "execution_count": 187
  }
 ],
 "metadata": {
  "kernelspec": {
   "display_name": "Python 3",
   "language": "python",
   "name": "python3"
  },
  "language_info": {
   "codemirror_mode": {
    "name": "ipython",
    "version": 2
   },
   "file_extension": ".py",
   "mimetype": "text/x-python",
   "name": "python",
   "nbconvert_exporter": "python",
   "pygments_lexer": "ipython2",
   "version": "2.7.6"
  }
 },
 "nbformat": 4,
 "nbformat_minor": 5
}
