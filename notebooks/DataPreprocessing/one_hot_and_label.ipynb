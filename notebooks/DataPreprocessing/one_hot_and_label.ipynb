{
 "cells": [
  {
   "cell_type": "code",
   "execution_count": 175,
   "id": "initial_id",
   "metadata": {
    "collapsed": true,
    "ExecuteTime": {
     "end_time": "2024-02-17T21:14:03.370225800Z",
     "start_time": "2024-02-17T21:14:03.340947300Z"
    }
   },
   "source": [
    "import pandas as pd\n",
    "\n",
    "from sklearn.preprocessing import OneHotEncoder\n",
    "from sklearn.preprocessing import LabelEncoder\n",
    "from sklearn.preprocessing import TargetEncoder\n",
    "from category_encoders import TargetEncoder"
   ],
   "outputs": []
  },
  {
   "cell_type": "markdown",
   "source": [
    "### Objetivo do notebook \n",
    "1) Mostrar como funciona as tecnicas de Label encoder e one hot encoder"
   ],
   "metadata": {
    "collapsed": false
   },
   "id": "c26d0f53f429dca1"
  },
  {
   "cell_type": "markdown",
   "source": [
    "### ONE HOT ENCODER\n",
    "vamos usar o one hot encoder nas colunas que usam dados do tipo string ('object') para conseguirmos colocar eles no modelo para melhorar a previsão"
   ],
   "metadata": {
    "collapsed": false
   },
   "id": "9652255978e58896"
  },
  {
   "cell_type": "code",
   "source": [
    "df = pd.read_csv('../../data/clean_dataset.csv')\n",
    "df.head()"
   ],
   "metadata": {
    "collapsed": false,
    "ExecuteTime": {
     "end_time": "2024-02-17T21:14:03.372237400Z",
     "start_time": "2024-02-17T21:14:03.353684600Z"
    }
   },
   "id": "47687e5c4ea3f3ca",
   "execution_count": 176,
   "outputs": []
  },
  {
   "cell_type": "code",
   "source": [
    "X = df.drop(columns=['approved', 'age', 'debt', 'years_employed', 'credit_score', 'zip_code', 'income'])"
   ],
   "metadata": {
    "collapsed": false,
    "ExecuteTime": {
     "end_time": "2024-02-17T21:14:03.395720Z",
     "start_time": "2024-02-17T21:14:03.375238800Z"
    }
   },
   "id": "5fa312c0a3d28e1a",
   "execution_count": 177,
   "outputs": []
  },
  {
   "cell_type": "code",
   "source": [
    "one_hot = OneHotEncoder(sparse=False)\n",
    "one_hot.fit(X)"
   ],
   "metadata": {
    "collapsed": false,
    "ExecuteTime": {
     "end_time": "2024-02-17T21:14:03.422744900Z",
     "start_time": "2024-02-17T21:14:03.382542100Z"
    }
   },
   "id": "55d4a56a1da7cf05",
   "execution_count": 178,
   "outputs": []
  },
  {
   "cell_type": "code",
   "source": [
    "df_one_hot = one_hot.transform(\n",
    "    df.drop(columns=['approved', 'age', 'debt', 'years_employed', 'credit_score', 'zip_code', 'income']))\n",
    "one_hot.get_feature_names_out()"
   ],
   "metadata": {
    "collapsed": false,
    "ExecuteTime": {
     "end_time": "2024-02-17T21:14:03.448382800Z",
     "start_time": "2024-02-17T21:14:03.392718900Z"
    }
   },
   "id": "51b7325664f66918",
   "execution_count": 179,
   "outputs": []
  },
  {
   "cell_type": "code",
   "source": [
    "df_one_hot"
   ],
   "metadata": {
    "collapsed": false,
    "ExecuteTime": {
     "end_time": "2024-02-17T21:14:03.499054500Z",
     "start_time": "2024-02-17T21:14:03.403040900Z"
    }
   },
   "id": "3f71cd6afbf5abbc",
   "execution_count": 180,
   "outputs": []
  },
  {
   "cell_type": "code",
   "source": [
    "df_one_hot = pd.DataFrame(df_one_hot, columns=one_hot.get_feature_names_out())"
   ],
   "metadata": {
    "collapsed": false,
    "ExecuteTime": {
     "end_time": "2024-02-17T21:14:03.537141100Z",
     "start_time": "2024-02-17T21:14:03.427746Z"
    }
   },
   "id": "167c6bb7346c257c",
   "execution_count": 181,
   "outputs": []
  },
  {
   "cell_type": "code",
   "source": [
    "df_one_hot"
   ],
   "metadata": {
    "collapsed": false,
    "ExecuteTime": {
     "end_time": "2024-02-17T21:14:03.584585900Z",
     "start_time": "2024-02-17T21:14:03.542669400Z"
    }
   },
   "id": "569101e0a5cf2065",
   "execution_count": 182,
   "outputs": []
  },
  {
   "cell_type": "markdown",
   "source": [
    "Usando o One hot encoder transformamos cada valor em uma coluna e colocando 0 se não for e 1 caso seja.\n",
    "Mas esse metodo dificulta muito as coisas quando precisamos trabalhar com os dados então vamos ver um metodo mais simples de trabalhar com isso "
   ],
   "metadata": {
    "collapsed": false
   },
   "id": "22fcc3dec8c19a3d"
  },
  {
   "cell_type": "markdown",
   "source": [
    "### Label encoder"
   ],
   "metadata": {
    "collapsed": false
   },
   "id": "d1b0153079f81827"
  },
  {
   "cell_type": "code",
   "source": [
    "df_encoded = pd.DataFrame()\n",
    "columns_off = []\n",
    "for col in df.columns:\n",
    "\n",
    "    if df[col].dtype != 'float64' and df[col].dtype != 'int64':\n",
    "        encoder = LabelEncoder()\n",
    "        df_encoded[f'{col}'] = encoder.fit_transform(df[col])\n",
    "    else:\n",
    "        columns_off.append(col)"
   ],
   "metadata": {
    "collapsed": false,
    "ExecuteTime": {
     "end_time": "2024-02-17T21:14:03.605075500Z",
     "start_time": "2024-02-17T21:14:03.586589400Z"
    }
   },
   "id": "2bb73818bc317289",
   "execution_count": 183,
   "outputs": []
  },
  {
   "cell_type": "code",
   "source": [
    "columns_off"
   ],
   "metadata": {
    "collapsed": false,
    "ExecuteTime": {
     "end_time": "2024-02-17T21:14:03.648516500Z",
     "start_time": "2024-02-17T21:14:03.606074700Z"
    }
   },
   "id": "6b767c5ce5388bfb",
   "execution_count": 184,
   "outputs": []
  },
  {
   "cell_type": "code",
   "source": [
    "df_encoded.columns"
   ],
   "metadata": {
    "collapsed": false,
    "ExecuteTime": {
     "end_time": "2024-02-17T21:14:03.679233700Z",
     "start_time": "2024-02-17T21:14:03.615602700Z"
    }
   },
   "id": "1eb38ffb4df890cc",
   "execution_count": 185,
   "outputs": []
  },
  {
   "cell_type": "code",
   "source": [
    "df_label_encoder = pd.concat([df_encoded, df[columns_off]], axis=1)"
   ],
   "metadata": {
    "collapsed": false,
    "ExecuteTime": {
     "end_time": "2024-02-17T21:14:03.680291300Z",
     "start_time": "2024-02-17T21:14:03.625436800Z"
    }
   },
   "id": "24213df64bbb517a",
   "execution_count": 186,
   "outputs": []
  },
  {
   "cell_type": "code",
   "source": [
    "df_label_encoder"
   ],
   "metadata": {
    "collapsed": false,
    "ExecuteTime": {
     "end_time": "2024-02-17T21:14:03.763590700Z",
     "start_time": "2024-02-17T21:14:03.667561Z"
    }
   },
   "id": "da3f42cbb954ea49",
   "execution_count": 187,
   "outputs": []
  }
 ],
 "metadata": {
  "kernelspec": {
   "display_name": "Python 3",
   "language": "python",
   "name": "python3"
  },
  "language_info": {
   "codemirror_mode": {
    "name": "ipython",
    "version": 2
   },
   "file_extension": ".py",
   "mimetype": "text/x-python",
   "name": "python",
   "nbconvert_exporter": "python",
   "pygments_lexer": "ipython2",
   "version": "2.7.6"
  }
 },
 "nbformat": 4,
 "nbformat_minor": 5
}
