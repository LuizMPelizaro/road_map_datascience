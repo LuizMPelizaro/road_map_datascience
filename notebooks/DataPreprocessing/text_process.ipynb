{
 "cells": [
  {
   "cell_type": "code",
   "execution_count": 27,
   "id": "initial_id",
   "metadata": {
    "collapsed": true,
    "ExecuteTime": {
     "end_time": "2024-02-24T16:03:08.837428Z",
     "start_time": "2024-02-24T16:03:08.820091300Z"
    }
   },
   "outputs": [],
   "source": [
    "import pandas as pd\n",
    "import nltk\n",
    "from nltk.tokenize import word_tokenize\n",
    "from sklearn.feature_extraction.text import TfidfVectorizer"
   ]
  },
  {
   "cell_type": "code",
   "outputs": [
    {
     "name": "stderr",
     "output_type": "stream",
     "text": [
      "[nltk_data] Downloading package punkt to\n",
      "[nltk_data]     C:\\Users\\siera\\AppData\\Roaming\\nltk_data...\n",
      "[nltk_data]   Package punkt is already up-to-date!\n"
     ]
    },
    {
     "data": {
      "text/plain": "True"
     },
     "execution_count": 28,
     "metadata": {},
     "output_type": "execute_result"
    }
   ],
   "source": [
    "nltk.download('punkt')"
   ],
   "metadata": {
    "collapsed": false,
    "ExecuteTime": {
     "end_time": "2024-02-24T16:03:09.085190900Z",
     "start_time": "2024-02-24T16:03:08.840598600Z"
    }
   },
   "id": "6bebe5318b2a976c",
   "execution_count": 28
  },
  {
   "cell_type": "markdown",
   "source": [
    "# Tokenização"
   ],
   "metadata": {
    "collapsed": false
   },
   "id": "a883bc35aa9039ea"
  },
  {
   "cell_type": "code",
   "outputs": [],
   "source": [
    "df = pd.read_csv('../../data/text_df.csv')\n",
    "df.drop(columns='text', inplace=True)"
   ],
   "metadata": {
    "collapsed": false,
    "ExecuteTime": {
     "end_time": "2024-02-24T16:03:09.101216800Z",
     "start_time": "2024-02-24T16:03:09.085190900Z"
    }
   },
   "id": "cade5102808f75c7",
   "execution_count": 29
  },
  {
   "cell_type": "code",
   "outputs": [],
   "source": [
    "df['tokens_question'] = df['question'].apply(lambda x: word_tokenize(x))"
   ],
   "metadata": {
    "collapsed": false,
    "ExecuteTime": {
     "end_time": "2024-02-24T16:03:09.179532400Z",
     "start_time": "2024-02-24T16:03:09.104220Z"
    }
   },
   "id": "10ffe71d4e994bf",
   "execution_count": 30
  },
  {
   "cell_type": "code",
   "outputs": [],
   "source": [
    "df['tokens_answer'] = df['answer'].apply(lambda x: word_tokenize(x))"
   ],
   "metadata": {
    "collapsed": false,
    "ExecuteTime": {
     "end_time": "2024-02-24T16:03:09.277050600Z",
     "start_time": "2024-02-24T16:03:09.268023100Z"
    }
   },
   "id": "6329efe9cfbac25c",
   "execution_count": 31
  },
  {
   "cell_type": "code",
   "outputs": [
    {
     "data": {
      "text/plain": "                                            question  \\\n0  What significant challenges does the rapid exp...   \n1  How does the proposed framework address the in...   \n2  What are the primary benefits of using blockch...   \n3  Why are traditional blockchain-based solutions...   \n4  How does the proposed framework ensure data pr...   \n\n                                              answer  \\\n0  Balancing scalability and security, computatio...   \n1  By employing edge aggregating servers and Ethe...   \n2  Data integrity, device authentication, and pro...   \n3  Due to scalability, cost issues, and computati...   \n4  Through the use of Zero-Knowledge Proofs (ZKPs...   \n\n                                     tokens_question  \\\n0  [What, significant, challenges, does, the, rap...   \n1  [How, does, the, proposed, framework, address,...   \n2  [What, are, the, primary, benefits, of, using,...   \n3  [Why, are, traditional, blockchain-based, solu...   \n4  [How, does, the, proposed, framework, ensure, ...   \n\n                                       tokens_answer  \n0  [Balancing, scalability, and, security, ,, com...  \n1  [By, employing, edge, aggregating, servers, an...  \n2  [Data, integrity, ,, device, authentication, ,...  \n3  [Due, to, scalability, ,, cost, issues, ,, and...  \n4  [Through, the, use, of, Zero-Knowledge, Proofs...  ",
      "text/html": "<div>\n<style scoped>\n    .dataframe tbody tr th:only-of-type {\n        vertical-align: middle;\n    }\n\n    .dataframe tbody tr th {\n        vertical-align: top;\n    }\n\n    .dataframe thead th {\n        text-align: right;\n    }\n</style>\n<table border=\"1\" class=\"dataframe\">\n  <thead>\n    <tr style=\"text-align: right;\">\n      <th></th>\n      <th>question</th>\n      <th>answer</th>\n      <th>tokens_question</th>\n      <th>tokens_answer</th>\n    </tr>\n  </thead>\n  <tbody>\n    <tr>\n      <th>0</th>\n      <td>What significant challenges does the rapid exp...</td>\n      <td>Balancing scalability and security, computatio...</td>\n      <td>[What, significant, challenges, does, the, rap...</td>\n      <td>[Balancing, scalability, and, security, ,, com...</td>\n    </tr>\n    <tr>\n      <th>1</th>\n      <td>How does the proposed framework address the in...</td>\n      <td>By employing edge aggregating servers and Ethe...</td>\n      <td>[How, does, the, proposed, framework, address,...</td>\n      <td>[By, employing, edge, aggregating, servers, an...</td>\n    </tr>\n    <tr>\n      <th>2</th>\n      <td>What are the primary benefits of using blockch...</td>\n      <td>Data integrity, device authentication, and pro...</td>\n      <td>[What, are, the, primary, benefits, of, using,...</td>\n      <td>[Data, integrity, ,, device, authentication, ,...</td>\n    </tr>\n    <tr>\n      <th>3</th>\n      <td>Why are traditional blockchain-based solutions...</td>\n      <td>Due to scalability, cost issues, and computati...</td>\n      <td>[Why, are, traditional, blockchain-based, solu...</td>\n      <td>[Due, to, scalability, ,, cost, issues, ,, and...</td>\n    </tr>\n    <tr>\n      <th>4</th>\n      <td>How does the proposed framework ensure data pr...</td>\n      <td>Through the use of Zero-Knowledge Proofs (ZKPs...</td>\n      <td>[How, does, the, proposed, framework, ensure, ...</td>\n      <td>[Through, the, use, of, Zero-Knowledge, Proofs...</td>\n    </tr>\n  </tbody>\n</table>\n</div>"
     },
     "execution_count": 32,
     "metadata": {},
     "output_type": "execute_result"
    }
   ],
   "source": [
    "df.head()"
   ],
   "metadata": {
    "collapsed": false,
    "ExecuteTime": {
     "end_time": "2024-02-24T16:03:09.282676100Z",
     "start_time": "2024-02-24T16:03:09.271029900Z"
    }
   },
   "id": "d065d3c7616d3ac4",
   "execution_count": 32
  },
  {
   "cell_type": "markdown",
   "source": [
    "## TF-IDF"
   ],
   "metadata": {
    "collapsed": false
   },
   "id": "4a58d36f9a77e0c6"
  },
  {
   "cell_type": "code",
   "outputs": [],
   "source": [
    "data = {'text_column': [\"This is an example sentence.\", \"Another sentence here.\", \"Yet another example sentence.\"]}\n",
    "df = pd.DataFrame(data)\n",
    "tfidf_vectorizer = TfidfVectorizer()\n",
    "tfidf_matrix = tfidf_vectorizer.fit_transform(df['text_column'])"
   ],
   "metadata": {
    "collapsed": false,
    "ExecuteTime": {
     "end_time": "2024-02-24T16:04:06.730214900Z",
     "start_time": "2024-02-24T16:04:06.724962900Z"
    }
   },
   "id": "ad9455546230e0bc",
   "execution_count": 36
  },
  {
   "cell_type": "code",
   "outputs": [
    {
     "data": {
      "text/plain": "         an   another   example      here        is  sentence      this  \\\n0  0.504611  0.000000  0.383770  0.000000  0.504611  0.298032  0.504611   \n1  0.000000  0.547832  0.000000  0.720333  0.000000  0.425441  0.000000   \n2  0.000000  0.480458  0.480458  0.000000  0.000000  0.373119  0.000000   \n\n        yet  \n0  0.000000  \n1  0.000000  \n2  0.631745  ",
      "text/html": "<div>\n<style scoped>\n    .dataframe tbody tr th:only-of-type {\n        vertical-align: middle;\n    }\n\n    .dataframe tbody tr th {\n        vertical-align: top;\n    }\n\n    .dataframe thead th {\n        text-align: right;\n    }\n</style>\n<table border=\"1\" class=\"dataframe\">\n  <thead>\n    <tr style=\"text-align: right;\">\n      <th></th>\n      <th>an</th>\n      <th>another</th>\n      <th>example</th>\n      <th>here</th>\n      <th>is</th>\n      <th>sentence</th>\n      <th>this</th>\n      <th>yet</th>\n    </tr>\n  </thead>\n  <tbody>\n    <tr>\n      <th>0</th>\n      <td>0.504611</td>\n      <td>0.000000</td>\n      <td>0.383770</td>\n      <td>0.000000</td>\n      <td>0.504611</td>\n      <td>0.298032</td>\n      <td>0.504611</td>\n      <td>0.000000</td>\n    </tr>\n    <tr>\n      <th>1</th>\n      <td>0.000000</td>\n      <td>0.547832</td>\n      <td>0.000000</td>\n      <td>0.720333</td>\n      <td>0.000000</td>\n      <td>0.425441</td>\n      <td>0.000000</td>\n      <td>0.000000</td>\n    </tr>\n    <tr>\n      <th>2</th>\n      <td>0.000000</td>\n      <td>0.480458</td>\n      <td>0.480458</td>\n      <td>0.000000</td>\n      <td>0.000000</td>\n      <td>0.373119</td>\n      <td>0.000000</td>\n      <td>0.631745</td>\n    </tr>\n  </tbody>\n</table>\n</div>"
     },
     "execution_count": 37,
     "metadata": {},
     "output_type": "execute_result"
    }
   ],
   "source": [
    "tfidf_df = pd.DataFrame(tfidf_matrix.toarray(), columns=tfidf_vectorizer.get_feature_names_out())\n",
    "tfidf_df"
   ],
   "metadata": {
    "collapsed": false,
    "ExecuteTime": {
     "end_time": "2024-02-24T16:04:07.187700Z",
     "start_time": "2024-02-24T16:04:07.172269500Z"
    }
   },
   "id": "effb726831978ad2",
   "execution_count": 37
  },
  {
   "cell_type": "code",
   "outputs": [],
   "source": [],
   "metadata": {
    "collapsed": false
   },
   "id": "d993899c20878da2"
  }
 ],
 "metadata": {
  "kernelspec": {
   "display_name": "Python 3",
   "language": "python",
   "name": "python3"
  },
  "language_info": {
   "codemirror_mode": {
    "name": "ipython",
    "version": 2
   },
   "file_extension": ".py",
   "mimetype": "text/x-python",
   "name": "python",
   "nbconvert_exporter": "python",
   "pygments_lexer": "ipython2",
   "version": "2.7.6"
  }
 },
 "nbformat": 4,
 "nbformat_minor": 5
}
