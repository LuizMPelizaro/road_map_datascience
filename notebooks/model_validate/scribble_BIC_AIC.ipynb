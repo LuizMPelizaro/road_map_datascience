{
 "cells": [
  {
   "metadata": {
    "ExecuteTime": {
     "end_time": "2024-05-01T16:59:45.559741Z",
     "start_time": "2024-05-01T16:59:41.824459Z"
    }
   },
   "cell_type": "code",
   "source": [
    "import numpy as np\n",
    "import pandas as pd\n",
    "import statsmodels.api as sm"
   ],
   "id": "3a9fcd34e5527628",
   "outputs": [],
   "execution_count": 1
  },
  {
   "metadata": {
    "ExecuteTime": {
     "end_time": "2024-05-01T16:59:45.575428Z",
     "start_time": "2024-05-01T16:59:45.560747Z"
    }
   },
   "cell_type": "code",
   "source": [
    "n_samples = 100\n",
    "weight = np.random.normal(loc=50, scale=10, size=n_samples)  # Peso dos ratos em gramas\n",
    "size = 30 + 0.5 * weight + np.random.normal(loc=0, scale=5, size=n_samples)\n",
    "month_born = np.random.randint(1, 13, size=n_samples)\n",
    "rats = {\n",
    "    'weight': weight,\n",
    "    'size': size,\n",
    "    'month_born': month_born\n",
    "}\n",
    "dataframe = pd.DataFrame(rats)\n",
    "dataframe"
   ],
   "id": "1ebe7806f845db61",
   "outputs": [
    {
     "data": {
      "text/plain": [
       "       weight       size  month_born\n",
       "0   61.333861  57.997310           4\n",
       "1   46.243969  54.089454           5\n",
       "2   59.462672  64.023119           4\n",
       "3   52.728784  53.227538           1\n",
       "4   58.100964  55.762236           9\n",
       "..        ...        ...         ...\n",
       "95  59.000040  62.410952           3\n",
       "96  48.901092  58.415313           2\n",
       "97  54.896470  54.073418           6\n",
       "98  60.385458  60.891558           8\n",
       "99  40.844008  51.911677           1\n",
       "\n",
       "[100 rows x 3 columns]"
      ],
      "text/html": [
       "<div>\n",
       "<style scoped>\n",
       "    .dataframe tbody tr th:only-of-type {\n",
       "        vertical-align: middle;\n",
       "    }\n",
       "\n",
       "    .dataframe tbody tr th {\n",
       "        vertical-align: top;\n",
       "    }\n",
       "\n",
       "    .dataframe thead th {\n",
       "        text-align: right;\n",
       "    }\n",
       "</style>\n",
       "<table border=\"1\" class=\"dataframe\">\n",
       "  <thead>\n",
       "    <tr style=\"text-align: right;\">\n",
       "      <th></th>\n",
       "      <th>weight</th>\n",
       "      <th>size</th>\n",
       "      <th>month_born</th>\n",
       "    </tr>\n",
       "  </thead>\n",
       "  <tbody>\n",
       "    <tr>\n",
       "      <th>0</th>\n",
       "      <td>61.333861</td>\n",
       "      <td>57.997310</td>\n",
       "      <td>4</td>\n",
       "    </tr>\n",
       "    <tr>\n",
       "      <th>1</th>\n",
       "      <td>46.243969</td>\n",
       "      <td>54.089454</td>\n",
       "      <td>5</td>\n",
       "    </tr>\n",
       "    <tr>\n",
       "      <th>2</th>\n",
       "      <td>59.462672</td>\n",
       "      <td>64.023119</td>\n",
       "      <td>4</td>\n",
       "    </tr>\n",
       "    <tr>\n",
       "      <th>3</th>\n",
       "      <td>52.728784</td>\n",
       "      <td>53.227538</td>\n",
       "      <td>1</td>\n",
       "    </tr>\n",
       "    <tr>\n",
       "      <th>4</th>\n",
       "      <td>58.100964</td>\n",
       "      <td>55.762236</td>\n",
       "      <td>9</td>\n",
       "    </tr>\n",
       "    <tr>\n",
       "      <th>...</th>\n",
       "      <td>...</td>\n",
       "      <td>...</td>\n",
       "      <td>...</td>\n",
       "    </tr>\n",
       "    <tr>\n",
       "      <th>95</th>\n",
       "      <td>59.000040</td>\n",
       "      <td>62.410952</td>\n",
       "      <td>3</td>\n",
       "    </tr>\n",
       "    <tr>\n",
       "      <th>96</th>\n",
       "      <td>48.901092</td>\n",
       "      <td>58.415313</td>\n",
       "      <td>2</td>\n",
       "    </tr>\n",
       "    <tr>\n",
       "      <th>97</th>\n",
       "      <td>54.896470</td>\n",
       "      <td>54.073418</td>\n",
       "      <td>6</td>\n",
       "    </tr>\n",
       "    <tr>\n",
       "      <th>98</th>\n",
       "      <td>60.385458</td>\n",
       "      <td>60.891558</td>\n",
       "      <td>8</td>\n",
       "    </tr>\n",
       "    <tr>\n",
       "      <th>99</th>\n",
       "      <td>40.844008</td>\n",
       "      <td>51.911677</td>\n",
       "      <td>1</td>\n",
       "    </tr>\n",
       "  </tbody>\n",
       "</table>\n",
       "<p>100 rows × 3 columns</p>\n",
       "</div>"
      ]
     },
     "execution_count": 2,
     "metadata": {},
     "output_type": "execute_result"
    }
   ],
   "execution_count": 2
  },
  {
   "metadata": {
    "ExecuteTime": {
     "end_time": "2024-05-01T16:59:45.590911Z",
     "start_time": "2024-05-01T16:59:45.576437Z"
    }
   },
   "cell_type": "code",
   "source": [
    "X = dataframe.drop(columns='weight')\n",
    "y = dataframe['weight']\n",
    "X = sm.add_constant(X)\n",
    "modelo = sm.OLS(y, X).fit()"
   ],
   "id": "94970bc71d6ced6",
   "outputs": [],
   "execution_count": 3
  },
  {
   "metadata": {
    "ExecuteTime": {
     "end_time": "2024-05-01T16:59:45.595952Z",
     "start_time": "2024-05-01T16:59:45.591918Z"
    }
   },
   "cell_type": "code",
   "source": [
    "aic = modelo.aic\n",
    "bic = modelo.bic"
   ],
   "id": "f0866522de889cc3",
   "outputs": [],
   "execution_count": 4
  },
  {
   "metadata": {
    "ExecuteTime": {
     "end_time": "2024-05-01T16:59:45.601518Z",
     "start_time": "2024-05-01T16:59:45.596958Z"
    }
   },
   "cell_type": "code",
   "source": [
    "print(\"AIC:\", aic)\n",
    "print(\"BIC:\", bic)"
   ],
   "id": "a12fda3750ab8f01",
   "outputs": [
    {
     "name": "stdout",
     "output_type": "stream",
     "text": [
      "AIC: 687.4232844697007\n",
      "BIC: 695.238795027665\n"
     ]
    }
   ],
   "execution_count": 5
  }
 ],
 "metadata": {
  "kernelspec": {
   "display_name": "Python 3",
   "language": "python",
   "name": "python3"
  },
  "language_info": {
   "codemirror_mode": {
    "name": "ipython",
    "version": 2
   },
   "file_extension": ".py",
   "mimetype": "text/x-python",
   "name": "python",
   "nbconvert_exporter": "python",
   "pygments_lexer": "ipython2",
   "version": "2.7.6"
  }
 },
 "nbformat": 4,
 "nbformat_minor": 5
}
