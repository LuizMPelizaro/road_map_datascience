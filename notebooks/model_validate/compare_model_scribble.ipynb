{
 "cells": [
  {
   "metadata": {
    "ExecuteTime": {
     "end_time": "2024-05-01T16:22:07.845277Z",
     "start_time": "2024-05-01T16:22:07.840886Z"
    }
   },
   "cell_type": "code",
   "source": [
    "import pandas as pd\n",
    "import seaborn as sns\n",
    "from scipy import stats\n",
    "from sklearn.model_selection import train_test_split\n",
    "from sklearn.preprocessing import LabelEncoder\n",
    "from sklearn.tree import DecisionTreeClassifier\n",
    "from sklearn.model_selection import cross_val_score, KFold\n",
    "from sklearn.ensemble import RandomForestClassifier"
   ],
   "id": "7de88c5d67802530",
   "outputs": [],
   "execution_count": 51
  },
  {
   "metadata": {
    "ExecuteTime": {
     "end_time": "2024-05-01T16:22:08.188948Z",
     "start_time": "2024-05-01T16:22:07.858843Z"
    }
   },
   "cell_type": "code",
   "source": [
    "dataframe = pd.read_csv('https://raw.githubusercontent.com/datasciencedojo/datasets/master/titanic.csv')\n",
    "dataframe = dataframe.drop(columns=['PassengerId', 'Name', 'SibSp', 'Ticket', 'Cabin', 'Embarked'])\n",
    "encoder = LabelEncoder()\n",
    "dataframe['Sex'] = encoder.fit_transform(dataframe['Sex'])\n",
    "dataframe.head()"
   ],
   "id": "48c6209a1d391446",
   "outputs": [
    {
     "data": {
      "text/plain": [
       "   Survived  Pclass  Sex   Age  Parch     Fare\n",
       "0         0       3    1  22.0      0   7.2500\n",
       "1         1       1    0  38.0      0  71.2833\n",
       "2         1       3    0  26.0      0   7.9250\n",
       "3         1       1    0  35.0      0  53.1000\n",
       "4         0       3    1  35.0      0   8.0500"
      ],
      "text/html": [
       "<div>\n",
       "<style scoped>\n",
       "    .dataframe tbody tr th:only-of-type {\n",
       "        vertical-align: middle;\n",
       "    }\n",
       "\n",
       "    .dataframe tbody tr th {\n",
       "        vertical-align: top;\n",
       "    }\n",
       "\n",
       "    .dataframe thead th {\n",
       "        text-align: right;\n",
       "    }\n",
       "</style>\n",
       "<table border=\"1\" class=\"dataframe\">\n",
       "  <thead>\n",
       "    <tr style=\"text-align: right;\">\n",
       "      <th></th>\n",
       "      <th>Survived</th>\n",
       "      <th>Pclass</th>\n",
       "      <th>Sex</th>\n",
       "      <th>Age</th>\n",
       "      <th>Parch</th>\n",
       "      <th>Fare</th>\n",
       "    </tr>\n",
       "  </thead>\n",
       "  <tbody>\n",
       "    <tr>\n",
       "      <th>0</th>\n",
       "      <td>0</td>\n",
       "      <td>3</td>\n",
       "      <td>1</td>\n",
       "      <td>22.0</td>\n",
       "      <td>0</td>\n",
       "      <td>7.2500</td>\n",
       "    </tr>\n",
       "    <tr>\n",
       "      <th>1</th>\n",
       "      <td>1</td>\n",
       "      <td>1</td>\n",
       "      <td>0</td>\n",
       "      <td>38.0</td>\n",
       "      <td>0</td>\n",
       "      <td>71.2833</td>\n",
       "    </tr>\n",
       "    <tr>\n",
       "      <th>2</th>\n",
       "      <td>1</td>\n",
       "      <td>3</td>\n",
       "      <td>0</td>\n",
       "      <td>26.0</td>\n",
       "      <td>0</td>\n",
       "      <td>7.9250</td>\n",
       "    </tr>\n",
       "    <tr>\n",
       "      <th>3</th>\n",
       "      <td>1</td>\n",
       "      <td>1</td>\n",
       "      <td>0</td>\n",
       "      <td>35.0</td>\n",
       "      <td>0</td>\n",
       "      <td>53.1000</td>\n",
       "    </tr>\n",
       "    <tr>\n",
       "      <th>4</th>\n",
       "      <td>0</td>\n",
       "      <td>3</td>\n",
       "      <td>1</td>\n",
       "      <td>35.0</td>\n",
       "      <td>0</td>\n",
       "      <td>8.0500</td>\n",
       "    </tr>\n",
       "  </tbody>\n",
       "</table>\n",
       "</div>"
      ]
     },
     "execution_count": 52,
     "metadata": {},
     "output_type": "execute_result"
    }
   ],
   "execution_count": 52
  },
  {
   "metadata": {
    "ExecuteTime": {
     "end_time": "2024-05-01T16:22:22.320490Z",
     "start_time": "2024-05-01T16:22:08.189954Z"
    }
   },
   "cell_type": "code",
   "source": [
    "RFS = []\n",
    "DTC = []\n",
    "X = dataframe.drop(columns='Survived')\n",
    "y = dataframe['Survived']\n",
    "for random_state in range(0, 100):\n",
    "    X_train, X_test, y_train, y_test = train_test_split(X, y, test_size=0.3, random_state=random_state)\n",
    "    rf = RandomForestClassifier().fit(X_train, y_train)\n",
    "    RFS.append(rf.score(X_test, y_test))\n",
    "    dt = DecisionTreeClassifier().fit(X_train, y_train)\n",
    "    DTC.append(dt.score(X_test, y_test))"
   ],
   "id": "a3fa845692e27dd5",
   "outputs": [],
   "execution_count": 53
  },
  {
   "metadata": {
    "ExecuteTime": {
     "end_time": "2024-05-01T16:22:22.519247Z",
     "start_time": "2024-05-01T16:22:22.321026Z"
    }
   },
   "cell_type": "code",
   "source": [
    "sns.histplot(RFS)\n",
    "sns.histplot(DTC)"
   ],
   "id": "1a6c98907db519ac",
   "outputs": [
    {
     "data": {
      "text/plain": [
       "<Axes: ylabel='Count'>"
      ]
     },
     "execution_count": 54,
     "metadata": {},
     "output_type": "execute_result"
    },
    {
     "data": {
      "text/plain": [
       "<Figure size 640x480 with 1 Axes>"
      ],
      "image/png": "[encoded data removed]"
     },
     "metadata": {},
     "output_type": "display_data"
    }
   ],
   "execution_count": 54
  },
  {
   "metadata": {
    "ExecuteTime": {
     "end_time": "2024-05-01T16:22:22.695665Z",
     "start_time": "2024-05-01T16:22:22.520848Z"
    }
   },
   "cell_type": "code",
   "source": [
    "diference = [a - b for a, b in zip(RFS, DTC)]\n",
    "sns.histplot(diference)"
   ],
   "id": "1ff4aa730591a618",
   "outputs": [
    {
     "data": {
      "text/plain": [
       "<Axes: ylabel='Count'>"
      ]
     },
     "execution_count": 55,
     "metadata": {},
     "output_type": "execute_result"
    },
    {
     "data": {
      "text/plain": [
       "<Figure size 640x480 with 1 Axes>"
      ],
      "image/png": "[encoded data removed]"
     },
     "metadata": {},
     "output_type": "display_data"
    }
   ],
   "execution_count": 55
  },
  {
   "metadata": {
    "ExecuteTime": {
     "end_time": "2024-05-01T16:22:22.702411Z",
     "start_time": "2024-05-01T16:22:22.696670Z"
    }
   },
   "cell_type": "code",
   "source": [
    "statistic, p_value = stats.ttest_ind(RFS, DTC)\n",
    "statistic"
   ],
   "id": "d3e41c3dbe93c757",
   "outputs": [
    {
     "data": {
      "text/plain": [
       "11.596382764736683"
      ]
     },
     "execution_count": 56,
     "metadata": {},
     "output_type": "execute_result"
    }
   ],
   "execution_count": 56
  },
  {
   "metadata": {},
   "cell_type": "markdown",
   "source": "",
   "id": "d472d0202d0f318d"
  },
  {
   "metadata": {
    "ExecuteTime": {
     "end_time": "2024-05-01T16:22:22.708011Z",
     "start_time": "2024-05-01T16:22:22.703417Z"
    }
   },
   "cell_type": "code",
   "source": "p_value",
   "id": "7fd6fae3c44e7aaa",
   "outputs": [
    {
     "data": {
      "text/plain": [
       "4.592484700825442e-24"
      ]
     },
     "execution_count": 57,
     "metadata": {},
     "output_type": "execute_result"
    }
   ],
   "execution_count": 57
  },
  {
   "metadata": {},
   "cell_type": "markdown",
   "source": [
    "#### Interpretação \n",
    "Portanto, com base no valor-p muito pequeno, podemos concluir que há uma diferença estatisticamente significativa entre a performance do modelo Random Forest e do modelo Decision Tree. Essa diferença pode ser positiva (indicando que o modelo Random Forest é significativamente melhor) ou negativa (indicando que o modelo Decision Tree é significativamente melhor), dependendo da direção da diferença observada nas métricas de avaliação."
   ],
   "id": "8e47887d0089d3e6"
  },
  {
   "metadata": {},
   "cell_type": "markdown",
   "source": "# Usando K-Fold (validação crusada)",
   "id": "11520f34625b2f99"
  },
  {
   "metadata": {
    "ExecuteTime": {
     "end_time": "2024-05-01T16:25:11.957064Z",
     "start_time": "2024-05-01T16:25:11.199194Z"
    }
   },
   "cell_type": "code",
   "source": [
    "rf = RandomForestClassifier()\n",
    "kf = KFold(n_splits=5, shuffle=True)\n",
    "scores = cross_val_score(rf, X, y, cv=kf)\n",
    "\n",
    "print(\"Score of iterations:\", scores)\n",
    "\n",
    "media_score = scores.mean()\n",
    "print(\"Mean of iterations:\", media_score)"
   ],
   "id": "fb55ce8a8b420c65",
   "outputs": [
    {
     "name": "stdout",
     "output_type": "stream",
     "text": [
      "Score of iterations: [0.7877095  0.82022472 0.79213483 0.83707865 0.82022472]\n",
      "Mean of iterations: 0.8114744837110036\n"
     ]
    }
   ],
   "execution_count": 62
  },
  {
   "metadata": {
    "ExecuteTime": {
     "end_time": "2024-05-01T16:25:12.718785Z",
     "start_time": "2024-05-01T16:25:11.958096Z"
    }
   },
   "cell_type": "code",
   "source": [
    "dt = DecisionTreeClassifier()\n",
    "kf = KFold(n_splits=5, shuffle=True)\n",
    "scores = cross_val_score(rf, X, y, cv=kf)\n",
    "\n",
    "print(\"Score of iterations:\", scores)\n",
    "media_score = scores.mean()\n",
    "print(\"Mean of iterations:\", media_score)"
   ],
   "id": "d44e3b57d1456403",
   "outputs": [
    {
     "name": "stdout",
     "output_type": "stream",
     "text": [
      "Score of iterations: [0.84916201 0.7752809  0.85955056 0.85955056 0.7752809 ]\n",
      "Mean of iterations: 0.8237649865042999\n"
     ]
    }
   ],
   "execution_count": 63
  },
  {
   "metadata": {},
   "cell_type": "markdown",
   "source": [
    "#### Iterpretação dos resultados \n",
    "Com os resultados acima podemos dizer que Decision tree é melhor para o caso \n"
   ],
   "id": "d9284d4947279473"
  },
  {
   "metadata": {},
   "cell_type": "code",
   "outputs": [],
   "execution_count": null,
   "source": "",
   "id": "831912a4697f5a8e"
  }
 ],
 "metadata": {
  "kernelspec": {
   "display_name": "Python 3",
   "language": "python",
   "name": "python3"
  },
  "language_info": {
   "codemirror_mode": {
    "name": "ipython",
    "version": 2
   },
   "file_extension": ".py",
   "mimetype": "text/x-python",
   "name": "python",
   "nbconvert_exporter": "python",
   "pygments_lexer": "ipython2",
   "version": "2.7.6"
  }
 },
 "nbformat": 4,
 "nbformat_minor": 5
}
