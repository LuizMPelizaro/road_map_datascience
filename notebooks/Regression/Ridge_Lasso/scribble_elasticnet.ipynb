{
 "cells": [
  {
   "cell_type": "code",
   "id": "initial_id",
   "metadata": {
    "collapsed": true,
    "ExecuteTime": {
     "end_time": "2024-04-25T18:13:49.176168Z",
     "start_time": "2024-04-25T18:13:49.159261Z"
    }
   },
   "source": [
    "import matplotlib.pyplot as plt\n",
    "import numpy as np\n",
    "import pandas as pd\n",
    "import seaborn as sns\n",
    "from sklearn import metrics\n",
    "from sklearn.linear_model import Lasso, Ridge, ElasticNet, LinearRegression\n",
    "from sklearn.model_selection import train_test_split"
   ],
   "execution_count": 312,
   "outputs": []
  },
  {
   "metadata": {
    "ExecuteTime": {
     "end_time": "2024-04-25T18:13:49.195860Z",
     "start_time": "2024-04-25T18:13:49.176168Z"
    }
   },
   "cell_type": "code",
   "source": [
    "n_samples = 20\n",
    "weight = np.random.normal(loc=50, scale=10, size=n_samples)  # Peso dos ratos em gramas\n",
    "size = 30 + 0.5 * weight + np.random.normal(loc=0, scale=5, size=n_samples)\n",
    "tail_size = size * np.random.uniform(0.001,0.1,1)\n",
    "rats = {\n",
    "    'weight': weight,\n",
    "    'size': size,\n",
    "    'tail_size': tail_size\n",
    "}\n",
    "dataframe = pd.DataFrame(rats)\n",
    "dataframe"
   ],
   "id": "4392dbcd1306015",
   "execution_count": 313,
   "outputs": []
  },
  {
   "metadata": {
    "ExecuteTime": {
     "end_time": "2024-04-25T18:13:49.407164Z",
     "start_time": "2024-04-25T18:13:49.195860Z"
    }
   },
   "cell_type": "code",
   "source": "sns.heatmap(dataframe.corr(), annot=True)",
   "id": "4502a4c7eddca097",
   "execution_count": 314,
   "outputs": []
  },
  {
   "metadata": {},
   "cell_type": "markdown",
   "source": "# Usando elastic net ",
   "id": "2f7394fb1b71eafc"
  },
  {
   "metadata": {
    "ExecuteTime": {
     "end_time": "2024-04-25T18:13:49.415756Z",
     "start_time": "2024-04-25T18:13:49.407164Z"
    }
   },
   "cell_type": "code",
   "source": [
    "X = dataframe.drop('weight', axis=1)\n",
    "y = dataframe['weight']\n",
    "X_train, X_test, y_train, y_test = train_test_split(X, y, test_size=0.3, random_state=42)"
   ],
   "id": "3035fb5bd31bf5b",
   "execution_count": 315,
   "outputs": []
  },
  {
   "metadata": {
    "ExecuteTime": {
     "end_time": "2024-04-25T18:13:49.426533Z",
     "start_time": "2024-04-25T18:13:49.415756Z"
    }
   },
   "cell_type": "code",
   "source": [
    "lr = LinearRegression()\n",
    "lr.fit(X_train, y_train)"
   ],
   "id": "5625a92ff6572a35",
   "execution_count": 316,
   "outputs": []
  },
  {
   "metadata": {
    "ExecuteTime": {
     "end_time": "2024-04-25T18:13:49.433505Z",
     "start_time": "2024-04-25T18:13:49.426533Z"
    }
   },
   "cell_type": "code",
   "source": "y_pred_lr = lr.predict(X_test)",
   "id": "ea3ef194f9d7a0f0",
   "execution_count": 317,
   "outputs": []
  },
  {
   "metadata": {
    "ExecuteTime": {
     "end_time": "2024-04-25T18:13:49.445695Z",
     "start_time": "2024-04-25T18:13:49.433505Z"
    }
   },
   "cell_type": "code",
   "source": [
    "ridge = Ridge(alpha=0.1)\n",
    "ridge.fit(X_train, y_train)"
   ],
   "id": "b9d0ed0613f13f03",
   "execution_count": 318,
   "outputs": []
  },
  {
   "metadata": {
    "ExecuteTime": {
     "end_time": "2024-04-25T18:13:49.454275Z",
     "start_time": "2024-04-25T18:13:49.445695Z"
    }
   },
   "cell_type": "code",
   "source": "y_ridge_pred = ridge.predict(X_test)",
   "id": "fcff409a43e0d55",
   "execution_count": 319,
   "outputs": []
  },
  {
   "metadata": {
    "ExecuteTime": {
     "end_time": "2024-04-25T18:13:49.462724Z",
     "start_time": "2024-04-25T18:13:49.454275Z"
    }
   },
   "cell_type": "code",
   "source": [
    "lasso = Lasso(alpha=0.00001)\n",
    "lasso.fit(X_train, y_train)"
   ],
   "id": "6b385005ec51d3f8",
   "execution_count": 320,
   "outputs": []
  },
  {
   "metadata": {
    "ExecuteTime": {
     "end_time": "2024-04-25T18:13:49.468972Z",
     "start_time": "2024-04-25T18:13:49.462724Z"
    }
   },
   "cell_type": "code",
   "source": "y_lasso_pred = lasso.predict(X_test)",
   "id": "c1f18a5404661f25",
   "execution_count": 321,
   "outputs": []
  },
  {
   "metadata": {
    "ExecuteTime": {
     "end_time": "2024-04-25T18:13:49.477204Z",
     "start_time": "2024-04-25T18:13:49.468972Z"
    }
   },
   "cell_type": "code",
   "source": [
    "elastic_net = ElasticNet(alpha=0.002, l1_ratio=0.001)\n",
    "elastic_net.fit(X_train, y_train)"
   ],
   "id": "a6c24c9fb3b0893c",
   "execution_count": 322,
   "outputs": []
  },
  {
   "metadata": {
    "ExecuteTime": {
     "end_time": "2024-04-25T18:13:49.484261Z",
     "start_time": "2024-04-25T18:13:49.477204Z"
    }
   },
   "cell_type": "code",
   "source": "y_elastic_net_pred = elastic_net.predict(X_test)",
   "id": "f2d630823f628e73",
   "execution_count": 323,
   "outputs": []
  },
  {
   "metadata": {
    "ExecuteTime": {
     "end_time": "2024-04-25T18:13:49.492985Z",
     "start_time": "2024-04-25T18:13:49.484261Z"
    }
   },
   "cell_type": "code",
   "source": [
    "print('Linear Regression Accuracy:', metrics.r2_score(y_test, y_pred_lr))\n",
    "print('Ridge Regression Accuracy:', metrics.r2_score(y_test, y_ridge_pred))\n",
    "print('Lasso Regression Accuracy:', metrics.r2_score(y_test, y_lasso_pred))\n",
    "print('Elastic Net Accuracy:', metrics.r2_score(y_test, y_elastic_net_pred))"
   ],
   "id": "e3dc3b3636c3232d",
   "execution_count": 324,
   "outputs": []
  },
  {
   "metadata": {
    "ExecuteTime": {
     "end_time": "2024-04-25T18:13:49.497696Z",
     "start_time": "2024-04-25T18:13:49.492985Z"
    }
   },
   "cell_type": "code",
   "source": [
    "ridge_coefs = ridge.coef_\n",
    "lasso_coefs = lasso.coef_\n",
    "elastic_net_coefs = elastic_net.coef_\n",
    "print(ridge_coefs)\n",
    "print(lasso_coefs)\n",
    "print(elastic_net_coefs)"
   ],
   "id": "7cd69a4e9fcfc5e1",
   "execution_count": 325,
   "outputs": []
  },
  {
   "metadata": {
    "ExecuteTime": {
     "end_time": "2024-04-25T18:13:49.717975Z",
     "start_time": "2024-04-25T18:13:49.497696Z"
    }
   },
   "cell_type": "code",
   "source": [
    "# Passo 5: Trace os coeficientes para cada método em um gráfico\n",
    "plt.plot(range(len(ridge_coefs)), ridge_coefs, color='blue', label='Ridge')\n",
    "plt.plot(range(len(lasso_coefs)), lasso_coefs, color='red', label='Lasso')\n",
    "plt.plot(range(len(elastic_net_coefs)), elastic_net_coefs, color='green', label='Elastic Net')\n",
    "plt.title('Coefficients of Ridge, Lasso, and Elastic Net')\n",
    "plt.xlabel('Coefficient Index')\n",
    "plt.ylabel('Coefficient Value')\n",
    "plt.legend()\n",
    "plt.show()"
   ],
   "id": "9ee2e4a028001ce6",
   "execution_count": 326,
   "outputs": []
  },
  {
   "metadata": {
    "ExecuteTime": {
     "end_time": "2024-04-25T18:14:32.677289Z",
     "start_time": "2024-04-25T18:14:29.346844Z"
    }
   },
   "cell_type": "code",
   "source": [
    "\n",
    "import matplotlib.pyplot as plt\n",
    "from sklearn import datasets\n",
    "from sklearn.model_selection import train_test_split\n",
    "from sklearn.linear_model import Ridge, Lasso, ElasticNet\n",
    "\n",
    "# Passo 1: Importe as bibliotecas necessárias\n",
    "\n",
    "# Passo 2: Gere dados sintéticos ou carregue um conjunto de dados existente\n",
    "X, y = datasets.load_diabetes(return_X_y=True)\n",
    "X_train, X_test, y_train, y_test = train_test_split(X, y, test_size=0.2, random_state=42)\n",
    "\n",
    "# Passo 3: Ajuste modelos de regressão usando Ridge, Lasso e Elastic Net\n",
    "ridge = Ridge(alpha=0.5)\n",
    "ridge.fit(X_train, y_train)\n",
    "\n",
    "lasso = Lasso(alpha=0.5)\n",
    "lasso.fit(X_train, y_train)\n",
    "\n",
    "elastic_net = ElasticNet(alpha=0.5, l1_ratio=0.5)\n",
    "elastic_net.fit(X_train, y_train)\n",
    "\n",
    "# Passo 4: Extraia os coeficientes dos modelos ajustados\n",
    "ridge_coefs = ridge.coef_\n",
    "lasso_coefs = lasso.coef_\n",
    "elastic_net_coefs = elastic_net.coef_\n",
    "\n",
    "# Passo 5: Trace os coeficientes para cada método em um gráfico\n",
    "plt.plot(range(len(ridge_coefs)), ridge_coefs, color='blue', label='Ridge')\n",
    "plt.plot(range(len(lasso_coefs)), lasso_coefs, color='red', label='Lasso')\n",
    "plt.plot(range(len(elastic_net_coefs)), elastic_net_coefs, color='green', label='Elastic Net')\n",
    "plt.title('Coefficients of Ridge, Lasso, and Elastic Net')\n",
    "plt.xlabel('Coefficient Index')\n",
    "plt.ylabel('Coefficient Value')\n",
    "plt.legend()\n",
    "plt.show()\n"
   ],
   "id": "bfac03ea6d59b630",
   "execution_count": 327,
   "outputs": []
  }
 ],
 "metadata": {
  "kernelspec": {
   "display_name": "Python 3",
   "language": "python",
   "name": "python3"
  },
  "language_info": {
   "codemirror_mode": {
    "name": "ipython",
    "version": 2
   },
   "file_extension": ".py",
   "mimetype": "text/x-python",
   "name": "python",
   "nbconvert_exporter": "python",
   "pygments_lexer": "ipython2",
   "version": "2.7.6"
  }
 },
 "nbformat": 4,
 "nbformat_minor": 5
}
