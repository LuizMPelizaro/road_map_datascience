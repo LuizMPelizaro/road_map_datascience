{
 "cells": [
  {
   "metadata": {
    "ExecuteTime": {
     "end_time": "2024-04-20T17:57:23.702472Z",
     "start_time": "2024-04-20T17:57:23.699600Z"
    }
   },
   "cell_type": "code",
   "source": [
    "import seaborn as sns\n",
    "import pandas as pd\n",
    "import numpy as np\n",
    "import matplotlib.pyplot as plt\n",
    "import statsmodels.api as sm\n"
   ],
   "id": "19be9385c3503c11",
   "outputs": [],
   "execution_count": 153
  },
  {
   "metadata": {},
   "cell_type": "code",
   "outputs": [],
   "execution_count": 155,
   "source": [
    "data = {\n",
    "    'weight': [0.2,0.22,0.23,0.256,0.3,0.33,0.37,0.4,0.44,0.46],\n",
    "    'obesity': [0,0,0,0,1,1,0,1,1,1]\n",
    "}\n",
    "df = pd.DataFrame(data)"
   ],
   "id": "e2477b4d998ac2da"
  },
  {
   "metadata": {},
   "cell_type": "code",
   "outputs": [
    {
     "data": {
      "text/plain": [
       "   weight  obesity\n",
       "0   0.200        0\n",
       "1   0.220        0\n",
       "2   0.230        0\n",
       "3   0.256        0\n",
       "4   0.300        1\n",
       "5   0.330        1\n",
       "6   0.370        0\n",
       "7   0.400        1\n",
       "8   0.440        1\n",
       "9   0.460        1"
      ],
      "text/html": [
       "<div>\n",
       "<style scoped>\n",
       "    .dataframe tbody tr th:only-of-type {\n",
       "        vertical-align: middle;\n",
       "    }\n",
       "\n",
       "    .dataframe tbody tr th {\n",
       "        vertical-align: top;\n",
       "    }\n",
       "\n",
       "    .dataframe thead th {\n",
       "        text-align: right;\n",
       "    }\n",
       "</style>\n",
       "<table border=\"1\" class=\"dataframe\">\n",
       "  <thead>\n",
       "    <tr style=\"text-align: right;\">\n",
       "      <th></th>\n",
       "      <th>weight</th>\n",
       "      <th>obesity</th>\n",
       "    </tr>\n",
       "  </thead>\n",
       "  <tbody>\n",
       "    <tr>\n",
       "      <th>0</th>\n",
       "      <td>0.200</td>\n",
       "      <td>0</td>\n",
       "    </tr>\n",
       "    <tr>\n",
       "      <th>1</th>\n",
       "      <td>0.220</td>\n",
       "      <td>0</td>\n",
       "    </tr>\n",
       "    <tr>\n",
       "      <th>2</th>\n",
       "      <td>0.230</td>\n",
       "      <td>0</td>\n",
       "    </tr>\n",
       "    <tr>\n",
       "      <th>3</th>\n",
       "      <td>0.256</td>\n",
       "      <td>0</td>\n",
       "    </tr>\n",
       "    <tr>\n",
       "      <th>4</th>\n",
       "      <td>0.300</td>\n",
       "      <td>1</td>\n",
       "    </tr>\n",
       "    <tr>\n",
       "      <th>5</th>\n",
       "      <td>0.330</td>\n",
       "      <td>1</td>\n",
       "    </tr>\n",
       "    <tr>\n",
       "      <th>6</th>\n",
       "      <td>0.370</td>\n",
       "      <td>0</td>\n",
       "    </tr>\n",
       "    <tr>\n",
       "      <th>7</th>\n",
       "      <td>0.400</td>\n",
       "      <td>1</td>\n",
       "    </tr>\n",
       "    <tr>\n",
       "      <th>8</th>\n",
       "      <td>0.440</td>\n",
       "      <td>1</td>\n",
       "    </tr>\n",
       "    <tr>\n",
       "      <th>9</th>\n",
       "      <td>0.460</td>\n",
       "      <td>1</td>\n",
       "    </tr>\n",
       "  </tbody>\n",
       "</table>\n",
       "</div>"
      ]
     },
     "execution_count": 156,
     "metadata": {},
     "output_type": "execute_result"
    }
   ],
   "execution_count": 156,
   "source": "df",
   "id": "1d9538aad61cdf8"
  },
  {
   "metadata": {
    "ExecuteTime": {
     "end_time": "2024-04-20T17:57:23.869283Z",
     "start_time": "2024-04-20T17:57:23.726201Z"
    }
   },
   "cell_type": "code",
   "source": [
    "sns.scatterplot(x='weight', y='obesity', data=df,hue='obesity')\n",
    "plt.title('Peso pela obesidade')\n",
    "plt.xlabel('Peso (g)')\n",
    "plt.ylabel('Obesidade')\n",
    "plt.show()"
   ],
   "id": "89683d22a01a35fc",
   "outputs": [
    {
     "data": {
      "text/plain": [
       "<Figure size 640x480 with 1 Axes>"
      ],
      "image/png": "[encoded data removed]"
     },
     "metadata": {},
     "output_type": "display_data"
    }
   ],
   "execution_count": 157
  },
  {
   "cell_type": "code",
   "id": "129c0957b2ef102a",
   "metadata": {
    "ExecuteTime": {
     "end_time": "2024-04-20T17:57:52.285055Z",
     "start_time": "2024-04-20T17:57:52.278301Z"
    }
   },
   "source": [
    "df['const'] = 1\n",
    "X = df[['weight','const']]\n",
    "y = df['obesity']\n",
    "model = sm.Logit(y, X).fit()"
   ],
   "outputs": [
    {
     "name": "stdout",
     "output_type": "stream",
     "text": [
      "Optimization terminated successfully.\n",
      "         Current function value: 0.366204\n",
      "         Iterations 7\n"
     ]
    }
   ],
   "execution_count": 162
  },
  {
   "metadata": {
    "ExecuteTime": {
     "end_time": "2024-04-20T17:58:11.018449Z",
     "start_time": "2024-04-20T17:58:11.005767Z"
    }
   },
   "cell_type": "code",
   "source": "model.summary()",
   "id": "96d80779739afcb0",
   "outputs": [
    {
     "data": {
      "text/plain": [
       "<class 'statsmodels.iolib.summary.Summary'>\n",
       "\"\"\"\n",
       "                           Logit Regression Results                           \n",
       "==============================================================================\n",
       "Dep. Variable:                obesity   No. Observations:                   10\n",
       "Model:                          Logit   Df Residuals:                        8\n",
       "Method:                           MLE   Df Model:                            1\n",
       "Date:                Sat, 20 Apr 2024   Pseudo R-squ.:                  0.4717\n",
       "Time:                        14:58:11   Log-Likelihood:                -3.6620\n",
       "converged:                       True   LL-Null:                       -6.9315\n",
       "Covariance Type:            nonrobust   LLR p-value:                   0.01055\n",
       "==============================================================================\n",
       "                 coef    std err          z      P>|z|      [0.025      0.975]\n",
       "------------------------------------------------------------------------------\n",
       "weight        26.1513     14.769      1.771      0.077      -2.795      55.097\n",
       "const         -8.2816      4.713     -1.757      0.079     -17.520       0.957\n",
       "==============================================================================\n",
       "\"\"\""
      ],
      "text/html": [
       "<table class=\"simpletable\">\n",
       "<caption>Logit Regression Results</caption>\n",
       "<tr>\n",
       "  <th>Dep. Variable:</th>        <td>obesity</td>     <th>  No. Observations:  </th>  <td>    10</td> \n",
       "</tr>\n",
       "<tr>\n",
       "  <th>Model:</th>                 <td>Logit</td>      <th>  Df Residuals:      </th>  <td>     8</td> \n",
       "</tr>\n",
       "<tr>\n",
       "  <th>Method:</th>                 <td>MLE</td>       <th>  Df Model:          </th>  <td>     1</td> \n",
       "</tr>\n",
       "<tr>\n",
       "  <th>Date:</th>            <td>Sat, 20 Apr 2024</td> <th>  Pseudo R-squ.:     </th>  <td>0.4717</td> \n",
       "</tr>\n",
       "<tr>\n",
       "  <th>Time:</th>                <td>14:58:11</td>     <th>  Log-Likelihood:    </th> <td> -3.6620</td>\n",
       "</tr>\n",
       "<tr>\n",
       "  <th>converged:</th>             <td>True</td>       <th>  LL-Null:           </th> <td> -6.9315</td>\n",
       "</tr>\n",
       "<tr>\n",
       "  <th>Covariance Type:</th>     <td>nonrobust</td>    <th>  LLR p-value:       </th>  <td>0.01055</td>\n",
       "</tr>\n",
       "</table>\n",
       "<table class=\"simpletable\">\n",
       "<tr>\n",
       "     <td></td>       <th>coef</th>     <th>std err</th>      <th>z</th>      <th>P>|z|</th>  <th>[0.025</th>    <th>0.975]</th>  \n",
       "</tr>\n",
       "<tr>\n",
       "  <th>weight</th> <td>   26.1513</td> <td>   14.769</td> <td>    1.771</td> <td> 0.077</td> <td>   -2.795</td> <td>   55.097</td>\n",
       "</tr>\n",
       "<tr>\n",
       "  <th>const</th>  <td>   -8.2816</td> <td>    4.713</td> <td>   -1.757</td> <td> 0.079</td> <td>  -17.520</td> <td>    0.957</td>\n",
       "</tr>\n",
       "</table>"
      ],
      "text/latex": "\\begin{center}\n\\begin{tabular}{lclc}\n\\toprule\n\\textbf{Dep. Variable:}   &     obesity      & \\textbf{  No. Observations:  } &       10    \\\\\n\\textbf{Model:}           &      Logit       & \\textbf{  Df Residuals:      } &        8    \\\\\n\\textbf{Method:}          &       MLE        & \\textbf{  Df Model:          } &        1    \\\\\n\\textbf{Date:}            & Sat, 20 Apr 2024 & \\textbf{  Pseudo R-squ.:     } &   0.4717    \\\\\n\\textbf{Time:}            &     14:58:11     & \\textbf{  Log-Likelihood:    } &   -3.6620   \\\\\n\\textbf{converged:}       &       True       & \\textbf{  LL-Null:           } &   -6.9315   \\\\\n\\textbf{Covariance Type:} &    nonrobust     & \\textbf{  LLR p-value:       } &  0.01055    \\\\\n\\bottomrule\n\\end{tabular}\n\\begin{tabular}{lcccccc}\n                & \\textbf{coef} & \\textbf{std err} & \\textbf{z} & \\textbf{P$> |$z$|$} & \\textbf{[0.025} & \\textbf{0.975]}  \\\\\n\\midrule\n\\textbf{weight} &      26.1513  &       14.769     &     1.771  &         0.077        &       -2.795    &       55.097     \\\\\n\\textbf{const}  &      -8.2816  &        4.713     &    -1.757  &         0.079        &      -17.520    &        0.957     \\\\\n\\bottomrule\n\\end{tabular}\n%\\caption{Logit Regression Results}\n\\end{center}"
     },
     "execution_count": 165,
     "metadata": {},
     "output_type": "execute_result"
    }
   ],
   "execution_count": 165
  },
  {
   "metadata": {
    "ExecuteTime": {
     "end_time": "2024-04-20T18:46:31.768664Z",
     "start_time": "2024-04-20T18:46:31.762736Z"
    }
   },
   "cell_type": "code",
   "source": "model.predict([0.380,1])",
   "id": "149449f8fb518a82",
   "outputs": [
    {
     "data": {
      "text/plain": [
       "array([0.83968348])"
      ]
     },
     "execution_count": 177,
     "metadata": {},
     "output_type": "execute_result"
    }
   ],
   "execution_count": 177
  },
  {
   "metadata": {},
   "cell_type": "markdown",
   "source": "### Variaveis discretas",
   "id": "758d3f84b2ec9fb9"
  },
  {
   "metadata": {
    "ExecuteTime": {
     "end_time": "2024-04-20T19:27:24.181039Z",
     "start_time": "2024-04-20T19:27:24.177064Z"
    }
   },
   "cell_type": "code",
   "source": [
    "data = {\n",
    "    'gene':[1,1,0,0,0,0,1,1,1,0],\n",
    "    'obesity':[1,1,0,0,1,0,0,1,1,1],\n",
    "}\n",
    "df = pd.DataFrame(data)"
   ],
   "id": "8c7ed9981b39f05a",
   "outputs": [],
   "execution_count": 200
  },
  {
   "metadata": {
    "ExecuteTime": {
     "end_time": "2024-04-20T19:27:24.509823Z",
     "start_time": "2024-04-20T19:27:24.495297Z"
    }
   },
   "cell_type": "code",
   "source": "df1",
   "id": "b17e7827f77381da",
   "outputs": [
    {
     "data": {
      "text/plain": [
       "   gene  obesity\n",
       "0     1        1\n",
       "1     1        1\n",
       "2     0        0\n",
       "3     0        0\n",
       "4     0        1\n",
       "5     0        0\n",
       "6     1        0\n",
       "7     1        1\n",
       "8     1        1\n",
       "9     0        1"
      ],
      "text/html": [
       "<div>\n",
       "<style scoped>\n",
       "    .dataframe tbody tr th:only-of-type {\n",
       "        vertical-align: middle;\n",
       "    }\n",
       "\n",
       "    .dataframe tbody tr th {\n",
       "        vertical-align: top;\n",
       "    }\n",
       "\n",
       "    .dataframe thead th {\n",
       "        text-align: right;\n",
       "    }\n",
       "</style>\n",
       "<table border=\"1\" class=\"dataframe\">\n",
       "  <thead>\n",
       "    <tr style=\"text-align: right;\">\n",
       "      <th></th>\n",
       "      <th>gene</th>\n",
       "      <th>obesity</th>\n",
       "    </tr>\n",
       "  </thead>\n",
       "  <tbody>\n",
       "    <tr>\n",
       "      <th>0</th>\n",
       "      <td>1</td>\n",
       "      <td>1</td>\n",
       "    </tr>\n",
       "    <tr>\n",
       "      <th>1</th>\n",
       "      <td>1</td>\n",
       "      <td>1</td>\n",
       "    </tr>\n",
       "    <tr>\n",
       "      <th>2</th>\n",
       "      <td>0</td>\n",
       "      <td>0</td>\n",
       "    </tr>\n",
       "    <tr>\n",
       "      <th>3</th>\n",
       "      <td>0</td>\n",
       "      <td>0</td>\n",
       "    </tr>\n",
       "    <tr>\n",
       "      <th>4</th>\n",
       "      <td>0</td>\n",
       "      <td>1</td>\n",
       "    </tr>\n",
       "    <tr>\n",
       "      <th>5</th>\n",
       "      <td>0</td>\n",
       "      <td>0</td>\n",
       "    </tr>\n",
       "    <tr>\n",
       "      <th>6</th>\n",
       "      <td>1</td>\n",
       "      <td>0</td>\n",
       "    </tr>\n",
       "    <tr>\n",
       "      <th>7</th>\n",
       "      <td>1</td>\n",
       "      <td>1</td>\n",
       "    </tr>\n",
       "    <tr>\n",
       "      <th>8</th>\n",
       "      <td>1</td>\n",
       "      <td>1</td>\n",
       "    </tr>\n",
       "    <tr>\n",
       "      <th>9</th>\n",
       "      <td>0</td>\n",
       "      <td>1</td>\n",
       "    </tr>\n",
       "  </tbody>\n",
       "</table>\n",
       "</div>"
      ]
     },
     "execution_count": 201,
     "metadata": {},
     "output_type": "execute_result"
    }
   ],
   "execution_count": 201
  },
  {
   "metadata": {
    "ExecuteTime": {
     "end_time": "2024-04-20T19:27:25.416721Z",
     "start_time": "2024-04-20T19:27:25.408950Z"
    }
   },
   "cell_type": "code",
   "source": [
    "df['const'] = 1\n",
    "X = df[['gene','const']]\n",
    "y = df['obesity']\n",
    "model = sm.Logit(y, X).fit()"
   ],
   "id": "20cdd7ac4d683b6",
   "outputs": [
    {
     "name": "stdout",
     "output_type": "stream",
     "text": [
      "Optimization terminated successfully.\n",
      "         Current function value: 0.586707\n",
      "         Iterations 5\n"
     ]
    }
   ],
   "execution_count": 202
  },
  {
   "metadata": {
    "ExecuteTime": {
     "end_time": "2024-04-20T19:27:26.169810Z",
     "start_time": "2024-04-20T19:27:26.151671Z"
    }
   },
   "cell_type": "code",
   "source": "model.summary()",
   "id": "dfdbb8489cc78be8",
   "outputs": [
    {
     "data": {
      "text/plain": [
       "<class 'statsmodels.iolib.summary.Summary'>\n",
       "\"\"\"\n",
       "                           Logit Regression Results                           \n",
       "==============================================================================\n",
       "Dep. Variable:                obesity   No. Observations:                   10\n",
       "Model:                          Logit   Df Residuals:                        8\n",
       "Method:                           MLE   Df Model:                            1\n",
       "Date:                Sat, 20 Apr 2024   Pseudo R-squ.:                  0.1282\n",
       "Time:                        16:27:26   Log-Likelihood:                -5.8671\n",
       "converged:                       True   LL-Null:                       -6.7301\n",
       "Covariance Type:            nonrobust   LLR p-value:                    0.1889\n",
       "==============================================================================\n",
       "                 coef    std err          z      P>|z|      [0.025      0.975]\n",
       "------------------------------------------------------------------------------\n",
       "gene           1.7918      1.443      1.241      0.214      -1.037       4.621\n",
       "const         -0.4055      0.913     -0.444      0.657      -2.195       1.384\n",
       "==============================================================================\n",
       "\"\"\""
      ],
      "text/html": [
       "<table class=\"simpletable\">\n",
       "<caption>Logit Regression Results</caption>\n",
       "<tr>\n",
       "  <th>Dep. Variable:</th>        <td>obesity</td>     <th>  No. Observations:  </th>  <td>    10</td> \n",
       "</tr>\n",
       "<tr>\n",
       "  <th>Model:</th>                 <td>Logit</td>      <th>  Df Residuals:      </th>  <td>     8</td> \n",
       "</tr>\n",
       "<tr>\n",
       "  <th>Method:</th>                 <td>MLE</td>       <th>  Df Model:          </th>  <td>     1</td> \n",
       "</tr>\n",
       "<tr>\n",
       "  <th>Date:</th>            <td>Sat, 20 Apr 2024</td> <th>  Pseudo R-squ.:     </th>  <td>0.1282</td> \n",
       "</tr>\n",
       "<tr>\n",
       "  <th>Time:</th>                <td>16:27:26</td>     <th>  Log-Likelihood:    </th> <td> -5.8671</td>\n",
       "</tr>\n",
       "<tr>\n",
       "  <th>converged:</th>             <td>True</td>       <th>  LL-Null:           </th> <td> -6.7301</td>\n",
       "</tr>\n",
       "<tr>\n",
       "  <th>Covariance Type:</th>     <td>nonrobust</td>    <th>  LLR p-value:       </th>  <td>0.1889</td> \n",
       "</tr>\n",
       "</table>\n",
       "<table class=\"simpletable\">\n",
       "<tr>\n",
       "    <td></td>       <th>coef</th>     <th>std err</th>      <th>z</th>      <th>P>|z|</th>  <th>[0.025</th>    <th>0.975]</th>  \n",
       "</tr>\n",
       "<tr>\n",
       "  <th>gene</th>  <td>    1.7918</td> <td>    1.443</td> <td>    1.241</td> <td> 0.214</td> <td>   -1.037</td> <td>    4.621</td>\n",
       "</tr>\n",
       "<tr>\n",
       "  <th>const</th> <td>   -0.4055</td> <td>    0.913</td> <td>   -0.444</td> <td> 0.657</td> <td>   -2.195</td> <td>    1.384</td>\n",
       "</tr>\n",
       "</table>"
      ],
      "text/latex": "\\begin{center}\n\\begin{tabular}{lclc}\n\\toprule\n\\textbf{Dep. Variable:}   &     obesity      & \\textbf{  No. Observations:  } &       10    \\\\\n\\textbf{Model:}           &      Logit       & \\textbf{  Df Residuals:      } &        8    \\\\\n\\textbf{Method:}          &       MLE        & \\textbf{  Df Model:          } &        1    \\\\\n\\textbf{Date:}            & Sat, 20 Apr 2024 & \\textbf{  Pseudo R-squ.:     } &   0.1282    \\\\\n\\textbf{Time:}            &     16:27:26     & \\textbf{  Log-Likelihood:    } &   -5.8671   \\\\\n\\textbf{converged:}       &       True       & \\textbf{  LL-Null:           } &   -6.7301   \\\\\n\\textbf{Covariance Type:} &    nonrobust     & \\textbf{  LLR p-value:       } &   0.1889    \\\\\n\\bottomrule\n\\end{tabular}\n\\begin{tabular}{lcccccc}\n               & \\textbf{coef} & \\textbf{std err} & \\textbf{z} & \\textbf{P$> |$z$|$} & \\textbf{[0.025} & \\textbf{0.975]}  \\\\\n\\midrule\n\\textbf{gene}  &       1.7918  &        1.443     &     1.241  &         0.214        &       -1.037    &        4.621     \\\\\n\\textbf{const} &      -0.4055  &        0.913     &    -0.444  &         0.657        &       -2.195    &        1.384     \\\\\n\\bottomrule\n\\end{tabular}\n%\\caption{Logit Regression Results}\n\\end{center}"
     },
     "execution_count": 203,
     "metadata": {},
     "output_type": "execute_result"
    }
   ],
   "execution_count": 203
  },
  {
   "metadata": {
    "ExecuteTime": {
     "end_time": "2024-04-20T19:47:35.546681Z",
     "start_time": "2024-04-20T19:47:35.530386Z"
    }
   },
   "cell_type": "code",
   "source": [
    "print(f'A chance de um rato do gene 1 se obeso é de :{model.predict([1,1])}')\n",
    "print(f'A chance de um rato do gene 0 se obeso é de :{model.predict([0,1])}')"
   ],
   "id": "424680c8befb697d",
   "outputs": [
    {
     "name": "stdout",
     "output_type": "stream",
     "text": [
      "A chance de um rato do gene 1 se obeso é de :[0.8]\n",
      "A chance de um rato do gene 0 se obeso é de :[0.4]\n"
     ]
    }
   ],
   "execution_count": 210
  },
  {
   "metadata": {},
   "cell_type": "code",
   "outputs": [],
   "execution_count": null,
   "source": "",
   "id": "414b6ad682b1dda4"
  }
 ],
 "metadata": {
  "kernelspec": {
   "display_name": "Python 3 (ipykernel)",
   "language": "python",
   "name": "python3"
  },
  "language_info": {
   "codemirror_mode": {
    "name": "ipython",
    "version": 3
   },
   "file_extension": ".py",
   "mimetype": "text/x-python",
   "name": "python",
   "nbconvert_exporter": "python",
   "pygments_lexer": "ipython3",
   "version": "3.12.2"
  }
 },
 "nbformat": 4,
 "nbformat_minor": 5
}
