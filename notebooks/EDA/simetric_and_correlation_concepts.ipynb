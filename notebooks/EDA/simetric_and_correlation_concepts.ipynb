{
 "cells": [
  {
   "cell_type": "code",
   "execution_count": 1,
   "id": "initial_id",
   "metadata": {
    "collapsed": true,
    "ExecuteTime": {
     "end_time": "2024-01-16T21:15:16.266531200Z",
     "start_time": "2024-01-16T21:15:16.263525900Z"
    }
   },
   "outputs": [],
   "source": [
    "import pandas as pd\n",
    "import matplotlib.pyplot as plt\n",
    "import seaborn as sns\n",
    "import numpy as np\n",
    "import scipy as sp"
   ]
  },
  {
   "cell_type": "code",
   "outputs": [
    {
     "data": {
      "text/plain": "   work_year             job_title                    job_category  \\\n0       2023  Data DevOps Engineer                Data Engineering   \n1       2023        Data Architect  Data Architecture and Modeling   \n2       2023        Data Architect  Data Architecture and Modeling   \n3       2023        Data Scientist       Data Science and Research   \n4       2023        Data Scientist       Data Science and Research   \n\n  salary_currency  salary  salary_in_usd employee_residence experience_level  \\\n0             EUR   88000          95012            Germany        Mid-level   \n1             USD  186000         186000      United States           Senior   \n2             USD   81800          81800      United States           Senior   \n3             USD  212000         212000      United States           Senior   \n4             USD   93300          93300      United States           Senior   \n\n  employment_type work_setting company_location company_size  \n0       Full-time       Hybrid          Germany            L  \n1       Full-time    In-person    United States            M  \n2       Full-time    In-person    United States            M  \n3       Full-time    In-person    United States            M  \n4       Full-time    In-person    United States            M  ",
      "text/html": "<div>\n<style scoped>\n    .dataframe tbody tr th:only-of-type {\n        vertical-align: middle;\n    }\n\n    .dataframe tbody tr th {\n        vertical-align: top;\n    }\n\n    .dataframe thead th {\n        text-align: right;\n    }\n</style>\n<table border=\"1\" class=\"dataframe\">\n  <thead>\n    <tr style=\"text-align: right;\">\n      <th></th>\n      <th>work_year</th>\n      <th>job_title</th>\n      <th>job_category</th>\n      <th>salary_currency</th>\n      <th>salary</th>\n      <th>salary_in_usd</th>\n      <th>employee_residence</th>\n      <th>experience_level</th>\n      <th>employment_type</th>\n      <th>work_setting</th>\n      <th>company_location</th>\n      <th>company_size</th>\n    </tr>\n  </thead>\n  <tbody>\n    <tr>\n      <th>0</th>\n      <td>2023</td>\n      <td>Data DevOps Engineer</td>\n      <td>Data Engineering</td>\n      <td>EUR</td>\n      <td>88000</td>\n      <td>95012</td>\n      <td>Germany</td>\n      <td>Mid-level</td>\n      <td>Full-time</td>\n      <td>Hybrid</td>\n      <td>Germany</td>\n      <td>L</td>\n    </tr>\n    <tr>\n      <th>1</th>\n      <td>2023</td>\n      <td>Data Architect</td>\n      <td>Data Architecture and Modeling</td>\n      <td>USD</td>\n      <td>186000</td>\n      <td>186000</td>\n      <td>United States</td>\n      <td>Senior</td>\n      <td>Full-time</td>\n      <td>In-person</td>\n      <td>United States</td>\n      <td>M</td>\n    </tr>\n    <tr>\n      <th>2</th>\n      <td>2023</td>\n      <td>Data Architect</td>\n      <td>Data Architecture and Modeling</td>\n      <td>USD</td>\n      <td>81800</td>\n      <td>81800</td>\n      <td>United States</td>\n      <td>Senior</td>\n      <td>Full-time</td>\n      <td>In-person</td>\n      <td>United States</td>\n      <td>M</td>\n    </tr>\n    <tr>\n      <th>3</th>\n      <td>2023</td>\n      <td>Data Scientist</td>\n      <td>Data Science and Research</td>\n      <td>USD</td>\n      <td>212000</td>\n      <td>212000</td>\n      <td>United States</td>\n      <td>Senior</td>\n      <td>Full-time</td>\n      <td>In-person</td>\n      <td>United States</td>\n      <td>M</td>\n    </tr>\n    <tr>\n      <th>4</th>\n      <td>2023</td>\n      <td>Data Scientist</td>\n      <td>Data Science and Research</td>\n      <td>USD</td>\n      <td>93300</td>\n      <td>93300</td>\n      <td>United States</td>\n      <td>Senior</td>\n      <td>Full-time</td>\n      <td>In-person</td>\n      <td>United States</td>\n      <td>M</td>\n    </tr>\n  </tbody>\n</table>\n</div>"
     },
     "execution_count": 2,
     "metadata": {},
     "output_type": "execute_result"
    }
   ],
   "source": [
    "dataframe = pd.read_csv('../../data/jobs_in_data.csv')\n",
    "dataframe.head()"
   ],
   "metadata": {
    "collapsed": false,
    "ExecuteTime": {
     "end_time": "2024-01-16T21:15:16.316461Z",
     "start_time": "2024-01-16T21:15:16.266531200Z"
    }
   },
   "id": "a4a88b4c0b52a17f",
   "execution_count": 2
  },
  {
   "cell_type": "code",
   "outputs": [
    {
     "data": {
      "text/plain": "<Axes: >"
     },
     "execution_count": 3,
     "metadata": {},
     "output_type": "execute_result"
    },
    {
     "data": {
      "text/plain": "<Figure size 640x480 with 1 Axes>",
      "image/png": "[encoded data removed]"
     },
     "metadata": {},
     "output_type": "display_data"
    }
   ],
   "source": [
    "dataframe['salary_in_usd'].hist()"
   ],
   "metadata": {
    "collapsed": false,
    "ExecuteTime": {
     "end_time": "2024-01-16T21:15:16.716113200Z",
     "start_time": "2024-01-16T21:15:16.316461Z"
    }
   },
   "id": "bd095b308f23f444",
   "execution_count": 3
  },
  {
   "cell_type": "markdown",
   "source": [
    "Assimentria normal \n",
    "A assimetria abaixo indica que ela esta para a direita ->"
   ],
   "metadata": {
    "collapsed": false
   },
   "id": "352aecc3b7b27b58"
  },
  {
   "cell_type": "code",
   "outputs": [
    {
     "data": {
      "text/plain": "0.6212912531604922"
     },
     "execution_count": 4,
     "metadata": {},
     "output_type": "execute_result"
    }
   ],
   "source": [
    "dataframe['salary_in_usd'].skew()"
   ],
   "metadata": {
    "collapsed": false,
    "ExecuteTime": {
     "end_time": "2024-01-16T21:15:16.727168400Z",
     "start_time": "2024-01-16T21:15:16.719118400Z"
    }
   },
   "id": "dfb4e4c5d6b3b122",
   "execution_count": 4
  },
  {
   "cell_type": "markdown",
   "source": [
    "Assimetria de pearson"
   ],
   "metadata": {
    "collapsed": false
   },
   "id": "4bd1c8ce1fceb0d8"
  },
  {
   "cell_type": "code",
   "outputs": [
    {
     "data": {
      "text/plain": "0.6211916296018803"
     },
     "execution_count": 5,
     "metadata": {},
     "output_type": "execute_result"
    }
   ],
   "source": [
    "sp.stats.skew(dataframe['salary_in_usd'])"
   ],
   "metadata": {
    "collapsed": false,
    "ExecuteTime": {
     "end_time": "2024-01-16T21:15:16.737163400Z",
     "start_time": "2024-01-16T21:15:16.728164700Z"
    }
   },
   "id": "4ee07faaa72233d1",
   "execution_count": 5
  },
  {
   "cell_type": "markdown",
   "source": [
    "assimetria de fisher"
   ],
   "metadata": {
    "collapsed": false
   },
   "id": "571e8321b56d1961"
  },
  {
   "cell_type": "code",
   "outputs": [
    {
     "data": {
      "text/plain": "0.6211916296018661"
     },
     "execution_count": 6,
     "metadata": {},
     "output_type": "execute_result"
    }
   ],
   "source": [
    "def calcular_assimetria_fisher(dados):\n",
    "    # Calcular o terceiro momento central\n",
    "    momento_central_3 = np.mean((dados - np.mean(dados))**3)\n",
    "\n",
    "    # Calcular o desvio padrão\n",
    "    desvio_padrao = np.std(dados)\n",
    "\n",
    "    # Calcular a assimetria usando Momentos de Fisher\n",
    "    assimetria_fisher = momento_central_3 / desvio_padrao**3\n",
    "\n",
    "    return assimetria_fisher\n",
    "calcular_assimetria_fisher(dataframe['salary_in_usd'])"
   ],
   "metadata": {
    "collapsed": false,
    "ExecuteTime": {
     "end_time": "2024-01-16T21:15:16.849964800Z",
     "start_time": "2024-01-16T21:15:16.737163400Z"
    }
   },
   "id": "af9bb480a988a1ba",
   "execution_count": 6
  },
  {
   "cell_type": "markdown",
   "source": [
    "## Curtose"
   ],
   "metadata": {
    "collapsed": false
   },
   "id": "205556b4344805b8"
  },
  {
   "cell_type": "code",
   "outputs": [
    {
     "data": {
      "text/plain": "0.5672418328471021"
     },
     "execution_count": 7,
     "metadata": {},
     "output_type": "execute_result"
    }
   ],
   "source": [
    "dataframe['salary_in_usd'].kurt()"
   ],
   "metadata": {
    "collapsed": false,
    "ExecuteTime": {
     "end_time": "2024-01-16T21:15:16.850966400Z",
     "start_time": "2024-01-16T21:15:16.747076100Z"
    }
   },
   "id": "ce6abe385007d223",
   "execution_count": 7
  },
  {
   "cell_type": "code",
   "outputs": [
    {
     "name": "stdout",
     "output_type": "stream",
     "text": [
      "Curtose: 0.5662974027614927\n"
     ]
    }
   ],
   "source": [
    "curtose_valor = sp.stats.kurtosis(dataframe['salary_in_usd'])\n",
    "\n",
    "print(f'Curtose: {curtose_valor}')"
   ],
   "metadata": {
    "collapsed": false,
    "ExecuteTime": {
     "end_time": "2024-01-16T21:15:16.851965600Z",
     "start_time": "2024-01-16T21:15:16.754006500Z"
    }
   },
   "id": "8461869916fe1f1d",
   "execution_count": 8
  },
  {
   "cell_type": "code",
   "outputs": [
    {
     "data": {
      "text/plain": "<Figure size 640x480 with 1 Axes>",
      "image/png": "[encoded data removed]"
     },
     "metadata": {},
     "output_type": "display_data"
    }
   ],
   "source": [
    "plt.hist(dataframe['salary_in_usd'], bins=30, color='lightblue', edgecolor='black')\n",
    "\n",
    "# Adiciona rótulos e título\n",
    "plt.xlabel('Valores')\n",
    "plt.ylabel('Frequência')\n",
    "plt.title('Histograma')\n",
    "\n",
    "# Exibe o histograma\n",
    "plt.show()"
   ],
   "metadata": {
    "collapsed": false,
    "ExecuteTime": {
     "end_time": "2024-01-16T21:15:17.097704800Z",
     "start_time": "2024-01-16T21:15:16.761960Z"
    }
   },
   "id": "c23cc90f36f5acc",
   "execution_count": 9
  },
  {
   "cell_type": "markdown",
   "source": [
    "No caso acima a Curtose é Leptocútica"
   ],
   "metadata": {
    "collapsed": false
   },
   "id": "ff3f98751e7dc522"
  },
  {
   "cell_type": "markdown",
   "source": [
    "## Correlação\n",
    "### Pearson"
   ],
   "metadata": {
    "collapsed": false
   },
   "id": "24aa03a62f03657b"
  },
  {
   "cell_type": "code",
   "outputs": [
    {
     "data": {
      "text/plain": "               salary_in_usd    salary\nsalary_in_usd       1.000000  0.991309\nsalary              0.991309  1.000000",
      "text/html": "<div>\n<style scoped>\n    .dataframe tbody tr th:only-of-type {\n        vertical-align: middle;\n    }\n\n    .dataframe tbody tr th {\n        vertical-align: top;\n    }\n\n    .dataframe thead th {\n        text-align: right;\n    }\n</style>\n<table border=\"1\" class=\"dataframe\">\n  <thead>\n    <tr style=\"text-align: right;\">\n      <th></th>\n      <th>salary_in_usd</th>\n      <th>salary</th>\n    </tr>\n  </thead>\n  <tbody>\n    <tr>\n      <th>salary_in_usd</th>\n      <td>1.000000</td>\n      <td>0.991309</td>\n    </tr>\n    <tr>\n      <th>salary</th>\n      <td>0.991309</td>\n      <td>1.000000</td>\n    </tr>\n  </tbody>\n</table>\n</div>"
     },
     "execution_count": 12,
     "metadata": {},
     "output_type": "execute_result"
    }
   ],
   "source": [
    "dataframe[['salary_in_usd','salary']].corr()"
   ],
   "metadata": {
    "collapsed": false,
    "ExecuteTime": {
     "end_time": "2024-01-16T21:15:53.284359600Z",
     "start_time": "2024-01-16T21:15:53.276297500Z"
    }
   },
   "id": "10d22396cebaa710",
   "execution_count": 12
  },
  {
   "cell_type": "markdown",
   "source": [
    "### Spearman"
   ],
   "metadata": {
    "collapsed": false
   },
   "id": "570820a5f7782646"
  },
  {
   "cell_type": "code",
   "outputs": [
    {
     "data": {
      "text/plain": "               salary_in_usd    salary\nsalary_in_usd       1.000000  0.992993\nsalary              0.992993  1.000000",
      "text/html": "<div>\n<style scoped>\n    .dataframe tbody tr th:only-of-type {\n        vertical-align: middle;\n    }\n\n    .dataframe tbody tr th {\n        vertical-align: top;\n    }\n\n    .dataframe thead th {\n        text-align: right;\n    }\n</style>\n<table border=\"1\" class=\"dataframe\">\n  <thead>\n    <tr style=\"text-align: right;\">\n      <th></th>\n      <th>salary_in_usd</th>\n      <th>salary</th>\n    </tr>\n  </thead>\n  <tbody>\n    <tr>\n      <th>salary_in_usd</th>\n      <td>1.000000</td>\n      <td>0.992993</td>\n    </tr>\n    <tr>\n      <th>salary</th>\n      <td>0.992993</td>\n      <td>1.000000</td>\n    </tr>\n  </tbody>\n</table>\n</div>"
     },
     "execution_count": 13,
     "metadata": {},
     "output_type": "execute_result"
    }
   ],
   "source": [
    "dataframe[['salary_in_usd','salary']].corr(method='spearman')"
   ],
   "metadata": {
    "collapsed": false,
    "ExecuteTime": {
     "end_time": "2024-01-16T21:17:08.525175500Z",
     "start_time": "2024-01-16T21:17:08.510197Z"
    }
   },
   "id": "2e0fff9600b9d7e8",
   "execution_count": 13
  },
  {
   "cell_type": "markdown",
   "source": [
    "### Kendall"
   ],
   "metadata": {
    "collapsed": false
   },
   "id": "b6ae5a18393d1cbc"
  },
  {
   "cell_type": "code",
   "outputs": [
    {
     "data": {
      "text/plain": "               salary_in_usd    salary\nsalary_in_usd       1.000000  0.982467\nsalary              0.982467  1.000000",
      "text/html": "<div>\n<style scoped>\n    .dataframe tbody tr th:only-of-type {\n        vertical-align: middle;\n    }\n\n    .dataframe tbody tr th {\n        vertical-align: top;\n    }\n\n    .dataframe thead th {\n        text-align: right;\n    }\n</style>\n<table border=\"1\" class=\"dataframe\">\n  <thead>\n    <tr style=\"text-align: right;\">\n      <th></th>\n      <th>salary_in_usd</th>\n      <th>salary</th>\n    </tr>\n  </thead>\n  <tbody>\n    <tr>\n      <th>salary_in_usd</th>\n      <td>1.000000</td>\n      <td>0.982467</td>\n    </tr>\n    <tr>\n      <th>salary</th>\n      <td>0.982467</td>\n      <td>1.000000</td>\n    </tr>\n  </tbody>\n</table>\n</div>"
     },
     "execution_count": 15,
     "metadata": {},
     "output_type": "execute_result"
    }
   ],
   "source": [
    "dataframe[['salary_in_usd','salary']].corr(method='kendall')"
   ],
   "metadata": {
    "collapsed": false,
    "ExecuteTime": {
     "end_time": "2024-01-16T21:17:30.511937100Z",
     "start_time": "2024-01-16T21:17:30.493498400Z"
    }
   },
   "id": "e008f89b73fbd1e2",
   "execution_count": 15
  },
  {
   "cell_type": "code",
   "outputs": [],
   "source": [],
   "metadata": {
    "collapsed": false
   },
   "id": "52a651d27da526c9"
  }
 ],
 "metadata": {
  "kernelspec": {
   "display_name": "Python 3",
   "language": "python",
   "name": "python3"
  },
  "language_info": {
   "codemirror_mode": {
    "name": "ipython",
    "version": 2
   },
   "file_extension": ".py",
   "mimetype": "text/x-python",
   "name": "python",
   "nbconvert_exporter": "python",
   "pygments_lexer": "ipython2",
   "version": "2.7.6"
  }
 },
 "nbformat": 4,
 "nbformat_minor": 5
}
