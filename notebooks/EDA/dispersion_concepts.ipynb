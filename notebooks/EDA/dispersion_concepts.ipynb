{
 "cells": [
  {
   "cell_type": "code",
   "execution_count": 17,
   "id": "initial_id",
   "metadata": {
    "collapsed": true,
    "ExecuteTime": {
     "end_time": "2024-01-13T19:45:58.247637700Z",
     "start_time": "2024-01-13T19:45:58.240928200Z"
    }
   },
   "outputs": [],
   "source": [
    "import pandas as pd\n",
    "import numpy as np\n",
    "import seaborn as sns\n",
    "import matplotlib.pyplot as plt"
   ]
  },
  {
   "cell_type": "markdown",
   "source": [
    "## Técnicas de dispersão\n",
    "### Desvio padrão "
   ],
   "metadata": {
    "collapsed": false
   },
   "id": "4cc4abfe61ce0c64"
  },
  {
   "cell_type": "code",
   "outputs": [
    {
     "data": {
      "text/plain": "   work_year             job_title                    job_category  \\\n0       2023  Data DevOps Engineer                Data Engineering   \n1       2023        Data Architect  Data Architecture and Modeling   \n2       2023        Data Architect  Data Architecture and Modeling   \n3       2023        Data Scientist       Data Science and Research   \n4       2023        Data Scientist       Data Science and Research   \n\n  salary_currency  salary  salary_in_usd employee_residence experience_level  \\\n0             EUR   88000          95012            Germany        Mid-level   \n1             USD  186000         186000      United States           Senior   \n2             USD   81800          81800      United States           Senior   \n3             USD  212000         212000      United States           Senior   \n4             USD   93300          93300      United States           Senior   \n\n  employment_type work_setting company_location company_size  \n0       Full-time       Hybrid          Germany            L  \n1       Full-time    In-person    United States            M  \n2       Full-time    In-person    United States            M  \n3       Full-time    In-person    United States            M  \n4       Full-time    In-person    United States            M  ",
      "text/html": "<div>\n<style scoped>\n    .dataframe tbody tr th:only-of-type {\n        vertical-align: middle;\n    }\n\n    .dataframe tbody tr th {\n        vertical-align: top;\n    }\n\n    .dataframe thead th {\n        text-align: right;\n    }\n</style>\n<table border=\"1\" class=\"dataframe\">\n  <thead>\n    <tr style=\"text-align: right;\">\n      <th></th>\n      <th>work_year</th>\n      <th>job_title</th>\n      <th>job_category</th>\n      <th>salary_currency</th>\n      <th>salary</th>\n      <th>salary_in_usd</th>\n      <th>employee_residence</th>\n      <th>experience_level</th>\n      <th>employment_type</th>\n      <th>work_setting</th>\n      <th>company_location</th>\n      <th>company_size</th>\n    </tr>\n  </thead>\n  <tbody>\n    <tr>\n      <th>0</th>\n      <td>2023</td>\n      <td>Data DevOps Engineer</td>\n      <td>Data Engineering</td>\n      <td>EUR</td>\n      <td>88000</td>\n      <td>95012</td>\n      <td>Germany</td>\n      <td>Mid-level</td>\n      <td>Full-time</td>\n      <td>Hybrid</td>\n      <td>Germany</td>\n      <td>L</td>\n    </tr>\n    <tr>\n      <th>1</th>\n      <td>2023</td>\n      <td>Data Architect</td>\n      <td>Data Architecture and Modeling</td>\n      <td>USD</td>\n      <td>186000</td>\n      <td>186000</td>\n      <td>United States</td>\n      <td>Senior</td>\n      <td>Full-time</td>\n      <td>In-person</td>\n      <td>United States</td>\n      <td>M</td>\n    </tr>\n    <tr>\n      <th>2</th>\n      <td>2023</td>\n      <td>Data Architect</td>\n      <td>Data Architecture and Modeling</td>\n      <td>USD</td>\n      <td>81800</td>\n      <td>81800</td>\n      <td>United States</td>\n      <td>Senior</td>\n      <td>Full-time</td>\n      <td>In-person</td>\n      <td>United States</td>\n      <td>M</td>\n    </tr>\n    <tr>\n      <th>3</th>\n      <td>2023</td>\n      <td>Data Scientist</td>\n      <td>Data Science and Research</td>\n      <td>USD</td>\n      <td>212000</td>\n      <td>212000</td>\n      <td>United States</td>\n      <td>Senior</td>\n      <td>Full-time</td>\n      <td>In-person</td>\n      <td>United States</td>\n      <td>M</td>\n    </tr>\n    <tr>\n      <th>4</th>\n      <td>2023</td>\n      <td>Data Scientist</td>\n      <td>Data Science and Research</td>\n      <td>USD</td>\n      <td>93300</td>\n      <td>93300</td>\n      <td>United States</td>\n      <td>Senior</td>\n      <td>Full-time</td>\n      <td>In-person</td>\n      <td>United States</td>\n      <td>M</td>\n    </tr>\n  </tbody>\n</table>\n</div>"
     },
     "execution_count": 18,
     "metadata": {},
     "output_type": "execute_result"
    }
   ],
   "source": [
    "dataframe = pd.read_csv('../../data/jobs_in_data.csv')\n",
    "dataframe.head()"
   ],
   "metadata": {
    "collapsed": false,
    "ExecuteTime": {
     "end_time": "2024-01-13T19:45:58.276194300Z",
     "start_time": "2024-01-13T19:45:58.245636200Z"
    }
   },
   "id": "74540820ddcc364d",
   "execution_count": 18
  },
  {
   "cell_type": "markdown",
   "source": [
    "Vamos calcular o desvio padrão de cada coluna que contem dados numericos e avaliados "
   ],
   "metadata": {
    "collapsed": false
   },
   "id": "38b1863ed39423bc"
  },
  {
   "cell_type": "code",
   "outputs": [
    {
     "name": "stdout",
     "output_type": "stream",
     "text": [
      "Standard deviation of work_year is 0.5194697748192417\n",
      "Standard deviation of salary is 63608.83538733167\n",
      "Standard deviation of salary_in_usd is 63177.372024435725\n"
     ]
    }
   ],
   "source": [
    "for column in dataframe.columns:\n",
    "    if dataframe[column].dtype != 'object':\n",
    "        print(f'Standard deviation of {column} is {dataframe[column].std()}')\n"
   ],
   "metadata": {
    "collapsed": false,
    "ExecuteTime": {
     "end_time": "2024-01-13T19:45:58.285289400Z",
     "start_time": "2024-01-13T19:45:58.276194300Z"
    }
   },
   "id": "c03f0598b89c9ae8",
   "execution_count": 19
  },
  {
   "cell_type": "markdown",
   "source": [
    "Usando numpy"
   ],
   "metadata": {
    "collapsed": false
   },
   "id": "6b6d97dd846b9e1c"
  },
  {
   "cell_type": "code",
   "outputs": [
    {
     "name": "stdout",
     "output_type": "stream",
     "text": [
      "Standard deviation of work_year is 0.5194420097921063\n",
      "Standard deviation of salary is 63605.43557250856\n",
      "Standard deviation of salary_in_usd is 63173.995270804175\n"
     ]
    }
   ],
   "source": [
    "for column in dataframe.columns:\n",
    "    if dataframe[column].dtype != 'object':\n",
    "        print(f'Standard deviation of {column} is {np.std(dataframe[column])}')"
   ],
   "metadata": {
    "collapsed": false,
    "ExecuteTime": {
     "end_time": "2024-01-13T19:45:58.292403200Z",
     "start_time": "2024-01-13T19:45:58.281162300Z"
    }
   },
   "id": "42aa5bf79240f4a6",
   "execution_count": 20
  },
  {
   "cell_type": "markdown",
   "source": [
    "Vamos comparar agora o desvio padrão com a média para avalialo"
   ],
   "metadata": {
    "collapsed": false
   },
   "id": "7484018d420d99bc"
  },
  {
   "cell_type": "code",
   "outputs": [
    {
     "name": "stdout",
     "output_type": "stream",
     "text": [
      "Standard deviation of work_year is 0.5194420097921063 , mean is 2022.7604489577766\n",
      "Standard deviation of salary is 63605.43557250856 , mean is 149927.98129342598\n",
      "Standard deviation of salary_in_usd is 63173.995270804175 , mean is 150299.4955638696\n"
     ]
    }
   ],
   "source": [
    "for column in dataframe.columns:\n",
    "    if dataframe[column].dtype != 'object':\n",
    "        print(f'Standard deviation of {column} is {np.std(dataframe[column])} , mean is {dataframe[column].mean()}')"
   ],
   "metadata": {
    "collapsed": false,
    "ExecuteTime": {
     "end_time": "2024-01-13T19:45:58.302762700Z",
     "start_time": "2024-01-13T19:45:58.289082300Z"
    }
   },
   "id": "65b862f6c88e1e17",
   "execution_count": 21
  },
  {
   "cell_type": "markdown",
   "source": [
    "Podemos vendo isso temos o indicio de ter um alta variabilidade nos dados numericos\n",
    "## Coeficiente de variação"
   ],
   "metadata": {
    "collapsed": false
   },
   "id": "f196f43cddd67dad"
  },
  {
   "cell_type": "code",
   "outputs": [
    {
     "name": "stdout",
     "output_type": "stream",
     "text": [
      "Coefficient of variation of work_year is 0.02567985794164345\n",
      "Coefficient of variation of salary is 42.423992522133375\n",
      "Coefficient of variation of salary_in_usd is 42.03207404908319\n"
     ]
    }
   ],
   "source": [
    "for column in dataframe.columns:\n",
    "    if dataframe[column].dtype != 'object':\n",
    "        print(f'Coefficient of variation of {column} is {(np.std(dataframe[column])/dataframe[column].mean())*100}')"
   ],
   "metadata": {
    "collapsed": false,
    "ExecuteTime": {
     "end_time": "2024-01-13T19:45:58.349878800Z",
     "start_time": "2024-01-13T19:45:58.295408700Z"
    }
   },
   "id": "f00a1dda2df118a8",
   "execution_count": 22
  },
  {
   "cell_type": "markdown",
   "source": [
    "# IQR "
   ],
   "metadata": {
    "collapsed": false
   },
   "id": "c57a589415f6c7bb"
  },
  {
   "cell_type": "code",
   "outputs": [
    {
     "name": "stdout",
     "output_type": "stream",
     "text": [
      "work_year\n",
      "Q1 is 2023.0\n",
      "Q3 is 2023.0\n",
      "IQR is 0.0\n",
      "salary\n",
      "Q1 is 105200.0\n",
      "Q3 is 187000.0\n",
      "IQR is 81800.0\n",
      "salary_in_usd\n",
      "Q1 is 105700.0\n",
      "Q3 is 186723.0\n",
      "IQR is 81023.0\n"
     ]
    }
   ],
   "source": [
    "for column in dataframe.columns:\n",
    "    if dataframe[column].dtype != 'object':\n",
    "        print(f'{column}')\n",
    "        print(f'Q1 is {dataframe[column].quantile(0.25)}')\n",
    "        print(f'Q3 is {dataframe[column].quantile(0.75)}')\n",
    "        print(f'IQR is {dataframe[column].quantile(0.75) - dataframe[column].quantile(0.25)}')"
   ],
   "metadata": {
    "collapsed": false,
    "ExecuteTime": {
     "end_time": "2024-01-13T19:45:58.372943500Z",
     "start_time": "2024-01-13T19:45:58.302762700Z"
    }
   },
   "id": "dc92f19827c7b2b3",
   "execution_count": 23
  },
  {
   "cell_type": "markdown",
   "source": [
    "## Para facilitar o entendimento veja o boxplot"
   ],
   "metadata": {
    "collapsed": false
   },
   "id": "98b06e188829df1"
  },
  {
   "cell_type": "code",
   "outputs": [
    {
     "data": {
      "text/plain": "Text(0.5, 0, 'Salary')"
     },
     "execution_count": 32,
     "metadata": {},
     "output_type": "execute_result"
    },
    {
     "data": {
      "text/plain": "<Figure size 800x600 with 1 Axes>",
      "image/png": "[encoded data removed]"
     },
     "metadata": {},
     "output_type": "display_data"
    }
   ],
   "source": [
    "df_box = dataframe[['salary','salary_in_usd']]\n",
    "sns.set_style('whitegrid')\n",
    "plt.figure(figsize=(8,6))\n",
    "sns.boxplot(data=df_box)\n",
    "plt.title('Boxplot')\n",
    "plt.xlabel('Salary')"
   ],
   "metadata": {
    "collapsed": false,
    "ExecuteTime": {
     "end_time": "2024-01-13T19:49:50.838410300Z",
     "start_time": "2024-01-13T19:49:50.684020Z"
    }
   },
   "id": "e3073cb9727cf918",
   "execution_count": 32
  },
  {
   "cell_type": "markdown",
   "source": [
    "No resultado acima podemos ver os quartis perfeitamente e os outliers, o que pode estar atrapalhando os nosso calculos de cv e de desvio padrão"
   ],
   "metadata": {
    "collapsed": false
   },
   "id": "cc5de38cd7c5eaeb"
  },
  {
   "cell_type": "code",
   "outputs": [],
   "source": [],
   "metadata": {
    "collapsed": false
   },
   "id": "6850b9bd6e3cd3e8"
  }
 ],
 "metadata": {
  "kernelspec": {
   "display_name": "Python 3",
   "language": "python",
   "name": "python3"
  },
  "language_info": {
   "codemirror_mode": {
    "name": "ipython",
    "version": 2
   },
   "file_extension": ".py",
   "mimetype": "text/x-python",
   "name": "python",
   "nbconvert_exporter": "python",
   "pygments_lexer": "ipython2",
   "version": "2.7.6"
  }
 },
 "nbformat": 4,
 "nbformat_minor": 5
}
