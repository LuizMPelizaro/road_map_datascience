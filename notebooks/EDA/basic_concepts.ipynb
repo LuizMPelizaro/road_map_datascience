{
 "cells": [
  {
   "cell_type": "markdown",
   "source": [
    "# EDA\n",
    "\n",
    "O objetivo desse notebook é mostrar os conceitos basicos as tecnicas mais utilizadas nessa etapa.\n",
    "\n",
    "- Medidas de tendência central (média, mediana, moda)\n",
    "- Medidas de dispersão ( desvio padrão, variancia, IQR)"
   ],
   "metadata": {
    "collapsed": false
   },
   "id": "bfd7c2add4a8e7f9"
  },
  {
   "cell_type": "code",
   "execution_count": 2,
   "id": "initial_id",
   "metadata": {
    "collapsed": true,
    "ExecuteTime": {
     "end_time": "2024-01-13T15:39:05.434534900Z",
     "start_time": "2024-01-13T15:39:05.431520100Z"
    }
   },
   "outputs": [],
   "source": [
    "import pandas as pd"
   ]
  },
  {
   "cell_type": "markdown",
   "source": [
    "O dataset que sera utilizado nessa etapa é um dataset sobre o salarios e os trabalhos na área de Data Science\n",
    "\n",
    "Fonte: https://www.kaggle.com/datasets/hummaamqaasim/jobs-in-data?resource=download"
   ],
   "metadata": {
    "collapsed": false
   },
   "id": "d59b044bc85691d5"
  },
  {
   "cell_type": "code",
   "outputs": [
    {
     "data": {
      "text/plain": "   work_year             job_title                    job_category  \\\n0       2023  Data DevOps Engineer                Data Engineering   \n1       2023        Data Architect  Data Architecture and Modeling   \n2       2023        Data Architect  Data Architecture and Modeling   \n3       2023        Data Scientist       Data Science and Research   \n4       2023        Data Scientist       Data Science and Research   \n\n  salary_currency  salary  salary_in_usd employee_residence experience_level  \\\n0             EUR   88000          95012            Germany        Mid-level   \n1             USD  186000         186000      United States           Senior   \n2             USD   81800          81800      United States           Senior   \n3             USD  212000         212000      United States           Senior   \n4             USD   93300          93300      United States           Senior   \n\n  employment_type work_setting company_location company_size  \n0       Full-time       Hybrid          Germany            L  \n1       Full-time    In-person    United States            M  \n2       Full-time    In-person    United States            M  \n3       Full-time    In-person    United States            M  \n4       Full-time    In-person    United States            M  ",
      "text/html": "<div>\n<style scoped>\n    .dataframe tbody tr th:only-of-type {\n        vertical-align: middle;\n    }\n\n    .dataframe tbody tr th {\n        vertical-align: top;\n    }\n\n    .dataframe thead th {\n        text-align: right;\n    }\n</style>\n<table border=\"1\" class=\"dataframe\">\n  <thead>\n    <tr style=\"text-align: right;\">\n      <th></th>\n      <th>work_year</th>\n      <th>job_title</th>\n      <th>job_category</th>\n      <th>salary_currency</th>\n      <th>salary</th>\n      <th>salary_in_usd</th>\n      <th>employee_residence</th>\n      <th>experience_level</th>\n      <th>employment_type</th>\n      <th>work_setting</th>\n      <th>company_location</th>\n      <th>company_size</th>\n    </tr>\n  </thead>\n  <tbody>\n    <tr>\n      <th>0</th>\n      <td>2023</td>\n      <td>Data DevOps Engineer</td>\n      <td>Data Engineering</td>\n      <td>EUR</td>\n      <td>88000</td>\n      <td>95012</td>\n      <td>Germany</td>\n      <td>Mid-level</td>\n      <td>Full-time</td>\n      <td>Hybrid</td>\n      <td>Germany</td>\n      <td>L</td>\n    </tr>\n    <tr>\n      <th>1</th>\n      <td>2023</td>\n      <td>Data Architect</td>\n      <td>Data Architecture and Modeling</td>\n      <td>USD</td>\n      <td>186000</td>\n      <td>186000</td>\n      <td>United States</td>\n      <td>Senior</td>\n      <td>Full-time</td>\n      <td>In-person</td>\n      <td>United States</td>\n      <td>M</td>\n    </tr>\n    <tr>\n      <th>2</th>\n      <td>2023</td>\n      <td>Data Architect</td>\n      <td>Data Architecture and Modeling</td>\n      <td>USD</td>\n      <td>81800</td>\n      <td>81800</td>\n      <td>United States</td>\n      <td>Senior</td>\n      <td>Full-time</td>\n      <td>In-person</td>\n      <td>United States</td>\n      <td>M</td>\n    </tr>\n    <tr>\n      <th>3</th>\n      <td>2023</td>\n      <td>Data Scientist</td>\n      <td>Data Science and Research</td>\n      <td>USD</td>\n      <td>212000</td>\n      <td>212000</td>\n      <td>United States</td>\n      <td>Senior</td>\n      <td>Full-time</td>\n      <td>In-person</td>\n      <td>United States</td>\n      <td>M</td>\n    </tr>\n    <tr>\n      <th>4</th>\n      <td>2023</td>\n      <td>Data Scientist</td>\n      <td>Data Science and Research</td>\n      <td>USD</td>\n      <td>93300</td>\n      <td>93300</td>\n      <td>United States</td>\n      <td>Senior</td>\n      <td>Full-time</td>\n      <td>In-person</td>\n      <td>United States</td>\n      <td>M</td>\n    </tr>\n  </tbody>\n</table>\n</div>"
     },
     "execution_count": 5,
     "metadata": {},
     "output_type": "execute_result"
    }
   ],
   "source": [
    "dataframe = pd.read_csv('../../data/jobs_in_data.csv')\n",
    "dataframe.head()"
   ],
   "metadata": {
    "collapsed": false,
    "ExecuteTime": {
     "end_time": "2024-01-13T15:51:05.232535400Z",
     "start_time": "2024-01-13T15:51:05.201997500Z"
    }
   },
   "id": "619ee3f0a7c414e5",
   "execution_count": 5
  },
  {
   "cell_type": "markdown",
   "source": [
    "## Média das colunas\n",
    "\n",
    "Podemos ver as médias de todas as colunas da forma mostrada abaixo de uma forma menos eficiente , pois com os resultados abaixo não conseguimos saber muito sobre cada tipo de categoria de trabalho, salario no pais, nivel de experiencia e etc. "
   ],
   "metadata": {
    "collapsed": false
   },
   "id": "539f3d1fe73602cf"
  },
  {
   "cell_type": "code",
   "outputs": [
    {
     "name": "stdout",
     "output_type": "stream",
     "text": [
      "Mean of collumn work_year is 2022.7604489577766\n",
      "Mean of collumn salary is 149927.98129342598\n",
      "Mean of collumn salary_in_usd is 150299.4955638696\n"
     ]
    }
   ],
   "source": [
    "for column in dataframe.columns:\n",
    "    if dataframe[column].dtype != 'object':\n",
    "        print(f\"Mean of collumn {column} is {dataframe[column].mean()}\")"
   ],
   "metadata": {
    "collapsed": false,
    "ExecuteTime": {
     "end_time": "2024-01-13T15:57:34.618292100Z",
     "start_time": "2024-01-13T15:57:34.610525600Z"
    }
   },
   "id": "93a1dcc4094bc37e",
   "execution_count": 8
  },
  {
   "cell_type": "markdown",
   "source": [
    "O comando describe da lib pandas faz isso mais facilmente e retorna outras metricas como minimo max e etc."
   ],
   "metadata": {
    "collapsed": false
   },
   "id": "85ee1ef3d4f14c75"
  },
  {
   "cell_type": "code",
   "outputs": [
    {
     "data": {
      "text/plain": "         work_year         salary  salary_in_usd\ncount  9355.000000    9355.000000    9355.000000\nmean   2022.760449  149927.981293  150299.495564\nstd       0.519470   63608.835387   63177.372024\nmin    2020.000000   14000.000000   15000.000000\n25%    2023.000000  105200.000000  105700.000000\n50%    2023.000000  143860.000000  143000.000000\n75%    2023.000000  187000.000000  186723.000000\nmax    2023.000000  450000.000000  450000.000000",
      "text/html": "<div>\n<style scoped>\n    .dataframe tbody tr th:only-of-type {\n        vertical-align: middle;\n    }\n\n    .dataframe tbody tr th {\n        vertical-align: top;\n    }\n\n    .dataframe thead th {\n        text-align: right;\n    }\n</style>\n<table border=\"1\" class=\"dataframe\">\n  <thead>\n    <tr style=\"text-align: right;\">\n      <th></th>\n      <th>work_year</th>\n      <th>salary</th>\n      <th>salary_in_usd</th>\n    </tr>\n  </thead>\n  <tbody>\n    <tr>\n      <th>count</th>\n      <td>9355.000000</td>\n      <td>9355.000000</td>\n      <td>9355.000000</td>\n    </tr>\n    <tr>\n      <th>mean</th>\n      <td>2022.760449</td>\n      <td>149927.981293</td>\n      <td>150299.495564</td>\n    </tr>\n    <tr>\n      <th>std</th>\n      <td>0.519470</td>\n      <td>63608.835387</td>\n      <td>63177.372024</td>\n    </tr>\n    <tr>\n      <th>min</th>\n      <td>2020.000000</td>\n      <td>14000.000000</td>\n      <td>15000.000000</td>\n    </tr>\n    <tr>\n      <th>25%</th>\n      <td>2023.000000</td>\n      <td>105200.000000</td>\n      <td>105700.000000</td>\n    </tr>\n    <tr>\n      <th>50%</th>\n      <td>2023.000000</td>\n      <td>143860.000000</td>\n      <td>143000.000000</td>\n    </tr>\n    <tr>\n      <th>75%</th>\n      <td>2023.000000</td>\n      <td>187000.000000</td>\n      <td>186723.000000</td>\n    </tr>\n    <tr>\n      <th>max</th>\n      <td>2023.000000</td>\n      <td>450000.000000</td>\n      <td>450000.000000</td>\n    </tr>\n  </tbody>\n</table>\n</div>"
     },
     "execution_count": 9,
     "metadata": {},
     "output_type": "execute_result"
    }
   ],
   "source": [
    "dataframe.describe()"
   ],
   "metadata": {
    "collapsed": false,
    "ExecuteTime": {
     "end_time": "2024-01-13T16:00:40.897175300Z",
     "start_time": "2024-01-13T16:00:40.877554100Z"
    }
   },
   "id": "d1c97fb443b9aca2",
   "execution_count": 9
  },
  {
   "cell_type": "markdown",
   "source": [
    "## Mediana\n",
    "A médiana é um tipo de medida importante , dado que algumas vezes o calculo da média pode distorcer os dados por causa de valores extremos, com o calculo da mediana podemos evitar esse distorcimento"
   ],
   "metadata": {
    "collapsed": false
   },
   "id": "30eb7d994595033e"
  },
  {
   "cell_type": "code",
   "outputs": [
    {
     "name": "stdout",
     "output_type": "stream",
     "text": [
      "Mean of collumn work_year is 2023.0\n",
      "Mean of collumn salary is 143860.0\n",
      "Mean of collumn salary_in_usd is 143000.0\n"
     ]
    }
   ],
   "source": [
    "for column in dataframe.columns:\n",
    "    if dataframe[column].dtype != 'object':\n",
    "        print(f\"Mean of collumn {column} is {dataframe[column].median()}\")"
   ],
   "metadata": {
    "collapsed": false,
    "ExecuteTime": {
     "end_time": "2024-01-13T16:42:28.113864500Z",
     "start_time": "2024-01-13T16:42:28.104348300Z"
    }
   },
   "id": "205d79058ca46384",
   "execution_count": 10
  },
  {
   "cell_type": "markdown",
   "source": [
    "Com a obs acima da média e da mediana podemos ver que existe uma diferença entre as duas não tão grande mas existe"
   ],
   "metadata": {
    "collapsed": false
   },
   "id": "19e9ba96ae5e8f5b"
  },
  {
   "cell_type": "code",
   "outputs": [
    {
     "name": "stdout",
     "output_type": "stream",
     "text": [
      "Diff of mean and median in work_year is -0.23955104222341106\n",
      "Diff of mean and median in salary is 6067.981293425983\n",
      "Diff of mean and median in salary_in_usd is 7299.495563869597\n"
     ]
    }
   ],
   "source": [
    "for column in dataframe.columns:\n",
    "    if dataframe[column].dtype != 'object':\n",
    "        print(f\"Diff of mean and median in {column} is {dataframe[column].mean() -dataframe[column].median()}\")"
   ],
   "metadata": {
    "collapsed": false,
    "ExecuteTime": {
     "end_time": "2024-01-13T16:48:07.394278200Z",
     "start_time": "2024-01-13T16:48:07.389035800Z"
    }
   },
   "id": "d4bd0b5dd282b59a",
   "execution_count": 13
  },
  {
   "cell_type": "markdown",
   "source": [
    "## Moda"
   ],
   "metadata": {
    "collapsed": false
   },
   "id": "208d31ddb4473a08"
  },
  {
   "cell_type": "code",
   "outputs": [
    {
     "name": "stdout",
     "output_type": "stream",
     "text": [
      "Mode of column work_year is 0    2023\n",
      "Name: work_year, dtype: int64\n",
      "Mode of column salary is 0    150000\n",
      "Name: salary, dtype: int64\n",
      "Mode of column salary_in_usd is 0    150000\n",
      "Name: salary_in_usd, dtype: int64\n"
     ]
    }
   ],
   "source": [
    "for column in dataframe.columns:\n",
    "    if dataframe[column].dtype != 'object':\n",
    "        print(f\"Mode of column {column} is {dataframe[column].mode(dropna=False)}\")"
   ],
   "metadata": {
    "collapsed": false,
    "ExecuteTime": {
     "end_time": "2024-01-13T17:09:22.920447800Z",
     "start_time": "2024-01-13T17:09:22.917432700Z"
    }
   },
   "id": "9091c785e4b95f70",
   "execution_count": 18
  }
 ],
 "metadata": {
  "kernelspec": {
   "display_name": "Python 3",
   "language": "python",
   "name": "python3"
  },
  "language_info": {
   "codemirror_mode": {
    "name": "ipython",
    "version": 2
   },
   "file_extension": ".py",
   "mimetype": "text/x-python",
   "name": "python",
   "nbconvert_exporter": "python",
   "pygments_lexer": "ipython2",
   "version": "2.7.6"
  }
 },
 "nbformat": 4,
 "nbformat_minor": 5
}
