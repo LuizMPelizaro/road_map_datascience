{
 "cells": [
  {
   "cell_type": "code",
   "id": "initial_id",
   "metadata": {
    "collapsed": true,
    "ExecuteTime": {
     "end_time": "2024-06-15T14:22:57.983073Z",
     "start_time": "2024-06-15T14:22:57.979475Z"
    }
   },
   "source": [
    "import pandas as pd\n",
    "import numpy as np\n",
    "import matplotlib.pyplot as plt\n"
   ],
   "outputs": [],
   "execution_count": 24
  },
  {
   "metadata": {
    "ExecuteTime": {
     "end_time": "2024-06-15T14:22:58.042215Z",
     "start_time": "2024-06-15T14:22:58.018081Z"
    }
   },
   "cell_type": "code",
   "source": [
    "dataframe = pd.read_csv('../../data/KFC Dataset.csv')\n",
    "dataframe.head()"
   ],
   "id": "e47992b618d3a872",
   "outputs": [
    {
     "data": {
      "text/plain": [
       "         Date    Open    High     Low   Close   Adj Close  Volume\n",
       "0  2000-04-14  1080.0  1080.0  1070.0  1070.0  735.970581    9000\n",
       "1  2000-04-17  1070.0  1070.0  1070.0  1070.0  735.970581    2000\n",
       "2  2000-04-18  1070.0  1070.0  1070.0  1070.0  735.970581       0\n",
       "3  2000-04-19  1070.0  1070.0  1070.0  1070.0  735.970581       0\n",
       "4  2000-04-20  1060.0  1060.0  1060.0  1060.0  729.092407    1000"
      ],
      "text/html": [
       "<div>\n",
       "<style scoped>\n",
       "    .dataframe tbody tr th:only-of-type {\n",
       "        vertical-align: middle;\n",
       "    }\n",
       "\n",
       "    .dataframe tbody tr th {\n",
       "        vertical-align: top;\n",
       "    }\n",
       "\n",
       "    .dataframe thead th {\n",
       "        text-align: right;\n",
       "    }\n",
       "</style>\n",
       "<table border=\"1\" class=\"dataframe\">\n",
       "  <thead>\n",
       "    <tr style=\"text-align: right;\">\n",
       "      <th></th>\n",
       "      <th>Date</th>\n",
       "      <th>Open</th>\n",
       "      <th>High</th>\n",
       "      <th>Low</th>\n",
       "      <th>Close</th>\n",
       "      <th>Adj Close</th>\n",
       "      <th>Volume</th>\n",
       "    </tr>\n",
       "  </thead>\n",
       "  <tbody>\n",
       "    <tr>\n",
       "      <th>0</th>\n",
       "      <td>2000-04-14</td>\n",
       "      <td>1080.0</td>\n",
       "      <td>1080.0</td>\n",
       "      <td>1070.0</td>\n",
       "      <td>1070.0</td>\n",
       "      <td>735.970581</td>\n",
       "      <td>9000</td>\n",
       "    </tr>\n",
       "    <tr>\n",
       "      <th>1</th>\n",
       "      <td>2000-04-17</td>\n",
       "      <td>1070.0</td>\n",
       "      <td>1070.0</td>\n",
       "      <td>1070.0</td>\n",
       "      <td>1070.0</td>\n",
       "      <td>735.970581</td>\n",
       "      <td>2000</td>\n",
       "    </tr>\n",
       "    <tr>\n",
       "      <th>2</th>\n",
       "      <td>2000-04-18</td>\n",
       "      <td>1070.0</td>\n",
       "      <td>1070.0</td>\n",
       "      <td>1070.0</td>\n",
       "      <td>1070.0</td>\n",
       "      <td>735.970581</td>\n",
       "      <td>0</td>\n",
       "    </tr>\n",
       "    <tr>\n",
       "      <th>3</th>\n",
       "      <td>2000-04-19</td>\n",
       "      <td>1070.0</td>\n",
       "      <td>1070.0</td>\n",
       "      <td>1070.0</td>\n",
       "      <td>1070.0</td>\n",
       "      <td>735.970581</td>\n",
       "      <td>0</td>\n",
       "    </tr>\n",
       "    <tr>\n",
       "      <th>4</th>\n",
       "      <td>2000-04-20</td>\n",
       "      <td>1060.0</td>\n",
       "      <td>1060.0</td>\n",
       "      <td>1060.0</td>\n",
       "      <td>1060.0</td>\n",
       "      <td>729.092407</td>\n",
       "      <td>1000</td>\n",
       "    </tr>\n",
       "  </tbody>\n",
       "</table>\n",
       "</div>"
      ]
     },
     "execution_count": 25,
     "metadata": {},
     "output_type": "execute_result"
    }
   ],
   "execution_count": 25
  },
  {
   "metadata": {
    "ExecuteTime": {
     "end_time": "2024-06-15T14:22:58.071108Z",
     "start_time": "2024-06-15T14:22:58.064276Z"
    }
   },
   "cell_type": "code",
   "source": [
    "dataframe = dataframe[['Date','Volume']]\n",
    "dataframe.head()"
   ],
   "id": "a7988a0d3af3be09",
   "outputs": [
    {
     "data": {
      "text/plain": [
       "         Date  Volume\n",
       "0  2000-04-14    9000\n",
       "1  2000-04-17    2000\n",
       "2  2000-04-18       0\n",
       "3  2000-04-19       0\n",
       "4  2000-04-20    1000"
      ],
      "text/html": [
       "<div>\n",
       "<style scoped>\n",
       "    .dataframe tbody tr th:only-of-type {\n",
       "        vertical-align: middle;\n",
       "    }\n",
       "\n",
       "    .dataframe tbody tr th {\n",
       "        vertical-align: top;\n",
       "    }\n",
       "\n",
       "    .dataframe thead th {\n",
       "        text-align: right;\n",
       "    }\n",
       "</style>\n",
       "<table border=\"1\" class=\"dataframe\">\n",
       "  <thead>\n",
       "    <tr style=\"text-align: right;\">\n",
       "      <th></th>\n",
       "      <th>Date</th>\n",
       "      <th>Volume</th>\n",
       "    </tr>\n",
       "  </thead>\n",
       "  <tbody>\n",
       "    <tr>\n",
       "      <th>0</th>\n",
       "      <td>2000-04-14</td>\n",
       "      <td>9000</td>\n",
       "    </tr>\n",
       "    <tr>\n",
       "      <th>1</th>\n",
       "      <td>2000-04-17</td>\n",
       "      <td>2000</td>\n",
       "    </tr>\n",
       "    <tr>\n",
       "      <th>2</th>\n",
       "      <td>2000-04-18</td>\n",
       "      <td>0</td>\n",
       "    </tr>\n",
       "    <tr>\n",
       "      <th>3</th>\n",
       "      <td>2000-04-19</td>\n",
       "      <td>0</td>\n",
       "    </tr>\n",
       "    <tr>\n",
       "      <th>4</th>\n",
       "      <td>2000-04-20</td>\n",
       "      <td>1000</td>\n",
       "    </tr>\n",
       "  </tbody>\n",
       "</table>\n",
       "</div>"
      ]
     },
     "execution_count": 26,
     "metadata": {},
     "output_type": "execute_result"
    }
   ],
   "execution_count": 26
  },
  {
   "metadata": {
    "ExecuteTime": {
     "end_time": "2024-06-15T14:22:58.085643Z",
     "start_time": "2024-06-15T14:22:58.079588Z"
    }
   },
   "cell_type": "code",
   "source": "values = dataframe['Volume'].values",
   "id": "d01a1cb7f7d2a324",
   "outputs": [],
   "execution_count": 27
  },
  {
   "metadata": {
    "ExecuteTime": {
     "end_time": "2024-06-15T14:22:58.096278Z",
     "start_time": "2024-06-15T14:22:58.086655Z"
    }
   },
   "cell_type": "code",
   "source": [
    "n = len(values)\n",
    "fhat = np.fft.fft(values, n)  # Transformada de Fourier\n",
    "psd = fhat * np.conj(fhat) / n  # Densidade espectral de potência\n",
    "freq = (1 / (n)) * np.arange(n)  # Frequências associadas\n",
    "L = np.arange(1, np.floor(n / 2), dtype='int')  # Apenas a metade positiva das frequências"
   ],
   "id": "82ad0fa5b1e56cb1",
   "outputs": [],
   "execution_count": 28
  },
  {
   "metadata": {
    "ExecuteTime": {
     "end_time": "2024-06-15T14:22:58.250784Z",
     "start_time": "2024-06-15T14:22:58.097286Z"
    }
   },
   "cell_type": "code",
   "source": [
    "# Plotar o espectro de frequências\n",
    "plt.figure(figsize=(12, 6))\n",
    "plt.plot(freq[L], np.abs(psd[L]), color='blue', lw=2)\n",
    "plt.xlabel('Frequência (Hz)')\n",
    "plt.ylabel('Densidade Espectral de Potência')\n",
    "plt.title('Espectro de Frequências')\n",
    "plt.show()"
   ],
   "id": "2f95f7e1f98e4ee6",
   "outputs": [
    {
     "data": {
      "text/plain": [
       "<Figure size 1200x600 with 1 Axes>"
      ],
      "image/png": "[encoded data removed]"
     },
     "metadata": {},
     "output_type": "display_data"
    }
   ],
   "execution_count": 29
  }
 ],
 "metadata": {
  "kernelspec": {
   "display_name": "Python 3",
   "language": "python",
   "name": "python3"
  },
  "language_info": {
   "codemirror_mode": {
    "name": "ipython",
    "version": 2
   },
   "file_extension": ".py",
   "mimetype": "text/x-python",
   "name": "python",
   "nbconvert_exporter": "python",
   "pygments_lexer": "ipython2",
   "version": "2.7.6"
  }
 },
 "nbformat": 4,
 "nbformat_minor": 5
}
